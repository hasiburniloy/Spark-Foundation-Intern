{
 "cells": [
  {
   "cell_type": "code",
   "execution_count": 1,
   "metadata": {},
   "outputs": [],
   "source": [
    "import os\n",
    "import zipfile\n",
    "import random\n",
    "import tensorflow as tf\n",
    "import shutil\n",
    "from tensorflow.keras.optimizers import RMSprop\n",
    "from tensorflow.keras.preprocessing.image import ImageDataGenerator\n",
    "from shutil import copyfile\n",
    "from os import getcwd"
   ]
  },
  {
   "cell_type": "code",
   "execution_count": 2,
   "metadata": {},
   "outputs": [],
   "source": [
    "path=f\"{getcwd()}/pet.zip\"\n",
    "\n",
    "local_zip = path\n",
    "zip_ref = zipfile.ZipFile(local_zip, 'r')\n",
    "zip_ref.extractall('/tmp')\n",
    "zip_ref.close()\n"
   ]
  },
  {
   "cell_type": "code",
   "execution_count": 3,
   "metadata": {},
   "outputs": [
    {
     "name": "stdout",
     "output_type": "stream",
     "text": [
      "12501\n",
      "12501\n"
     ]
    }
   ],
   "source": [
    "print(len(os.listdir('/tmp/PetImages/Cat/')))\n",
    "print(len(os.listdir('/tmp/PetImages/dog/')))"
   ]
  },
  {
   "cell_type": "code",
   "execution_count": 4,
   "metadata": {},
   "outputs": [],
   "source": [
    "try:\n",
    "    os.mkdir('/tmp/cats-v-dogs')\n",
    "    os.mkdir('/tmp/cats-v-dogs/training')\n",
    "    os.mkdir('/tmp/cats-v-dogs/testing')\n",
    "    os.mkdir('/tmp/cats-v-dogs/training/cats')\n",
    "    os.mkdir('/tmp/cats-v-dogs/training/dogs')\n",
    "    os.mkdir('/tmp/cats-v-dogs/testing/cats')\n",
    "    os.mkdir('/tmp/cats-v-dogs/testing/dogs')\n",
    "except OSError:\n",
    "    pass"
   ]
  },
  {
   "cell_type": "code",
   "execution_count": 5,
   "metadata": {},
   "outputs": [
    {
     "name": "stdout",
     "output_type": "stream",
     "text": [
      "skipped\n",
      "skipped\n"
     ]
    }
   ],
   "source": [
    "def split_data(SOURCE, TRAINING, TESTING, SPLIT_SIZE):\n",
    "    dataset=[]\n",
    "    for i in os.listdir(SOURCE):\n",
    "        \n",
    "        if os.path.getsize(SOURCE+i)>0:\n",
    "           \n",
    "            dataset.append(i)\n",
    "        else:\n",
    "            print(\"skipped\")\n",
    "    training_data_size=int(len(dataset)*SPLIT_SIZE)\n",
    "    test_data_size=int(len(dataset)-training_data_size)\n",
    "    s=random.sample(dataset, len(dataset))\n",
    "    train=s[0:training_data_size]\n",
    "    test=s[:test_data_size]\n",
    "    for i in train:\n",
    "        l=SOURCE+i\n",
    "        t=TRAINING+i\n",
    "        copyfile(l,t)\n",
    "    for i in test:\n",
    "        l=SOURCE+i\n",
    "        t=TESTING+i\n",
    "        copyfile(l,t)\n",
    "    \n",
    "    \n",
    "\n",
    "\n",
    "CAT_SOURCE_DIR = \"/tmp/PetImages/Cat/\"\n",
    "TRAINING_CATS_DIR = \"/tmp/cats-v-dogs/training/cats/\"\n",
    "TESTING_CATS_DIR = \"/tmp/cats-v-dogs/testing/cats/\"\n",
    "DOG_SOURCE_DIR = \"/tmp/PetImages/Dog/\"\n",
    "TRAINING_DOGS_DIR = \"/tmp/cats-v-dogs/training/dogs/\"\n",
    "TESTING_DOGS_DIR = \"/tmp/cats-v-dogs/testing/dogs/\"\n",
    "\n",
    "split_size = .9\n",
    "split_data(CAT_SOURCE_DIR, TRAINING_CATS_DIR, TESTING_CATS_DIR, split_size)\n",
    "split_data(DOG_SOURCE_DIR, TRAINING_DOGS_DIR, TESTING_DOGS_DIR, split_size)"
   ]
  },
  {
   "cell_type": "code",
   "execution_count": 6,
   "metadata": {},
   "outputs": [
    {
     "name": "stdout",
     "output_type": "stream",
     "text": [
      "12498\n",
      "12488\n",
      "3390\n",
      "3369\n"
     ]
    }
   ],
   "source": [
    "print(len(os.listdir('/tmp/cats-v-dogs/training/cats/')))\n",
    "print(len(os.listdir('/tmp/cats-v-dogs/training/dogs/')))\n",
    "print(len(os.listdir('/tmp/cats-v-dogs/testing/cats/')))\n",
    "print(len(os.listdir('/tmp/cats-v-dogs/testing/dogs/')))\n"
   ]
  },
  {
   "cell_type": "code",
   "execution_count": 10,
   "metadata": {},
   "outputs": [],
   "source": [
    "model = tf.keras.models.Sequential([tf.keras.layers.Conv2D(16, (3,3), activation='relu', input_shape=(150, 150, 3)),\n",
    "    tf.keras.layers.MaxPooling2D(2,2),\n",
    "    tf.keras.layers.Conv2D(32, (3,3), activation='relu'),\n",
    "    tf.keras.layers.MaxPooling2D(2,2), \n",
    "    tf.keras.layers.Conv2D(64, (3,3), activation='relu'), \n",
    "    tf.keras.layers.MaxPooling2D(2,2),\n",
    "                                \n",
    "    tf.keras.layers.Conv2D(128, (3,3), activation='relu'), \n",
    "    tf.keras.layers.MaxPooling2D(2,2),\n",
    "    tf.keras.layers.Conv2D(128, (3,3), activation='relu'), \n",
    "    tf.keras.layers.MaxPooling2D(2,2),\n",
    "    tf.keras.layers.Flatten(), \n",
    "    tf.keras.layers.Dense(512, activation='relu'),\n",
    "    tf.keras.layers.Dropout(.2),\n",
    "    tf.keras.layers.Dense(512, activation='relu'),                          \n",
    "    tf.keras.layers.Dense(1, activation='sigmoid')  \n",
    "])\n",
    "\n",
    "model.compile(optimizer=RMSprop(lr=0.001), loss='binary_crossentropy', metrics=['acc'])"
   ]
  },
  {
   "cell_type": "code",
   "execution_count": 11,
   "metadata": {},
   "outputs": [
    {
     "name": "stdout",
     "output_type": "stream",
     "text": [
      "Model: \"sequential_3\"\n",
      "_________________________________________________________________\n",
      "Layer (type)                 Output Shape              Param #   \n",
      "=================================================================\n",
      "conv2d_17 (Conv2D)           (None, 148, 148, 16)      448       \n",
      "_________________________________________________________________\n",
      "max_pooling2d_17 (MaxPooling (None, 74, 74, 16)        0         \n",
      "_________________________________________________________________\n",
      "conv2d_18 (Conv2D)           (None, 72, 72, 32)        4640      \n",
      "_________________________________________________________________\n",
      "max_pooling2d_18 (MaxPooling (None, 36, 36, 32)        0         \n",
      "_________________________________________________________________\n",
      "conv2d_19 (Conv2D)           (None, 34, 34, 64)        18496     \n",
      "_________________________________________________________________\n",
      "max_pooling2d_19 (MaxPooling (None, 17, 17, 64)        0         \n",
      "_________________________________________________________________\n",
      "conv2d_20 (Conv2D)           (None, 15, 15, 128)       73856     \n",
      "_________________________________________________________________\n",
      "max_pooling2d_20 (MaxPooling (None, 7, 7, 128)         0         \n",
      "_________________________________________________________________\n",
      "conv2d_21 (Conv2D)           (None, 5, 5, 128)         147584    \n",
      "_________________________________________________________________\n",
      "max_pooling2d_21 (MaxPooling (None, 2, 2, 128)         0         \n",
      "_________________________________________________________________\n",
      "flatten_3 (Flatten)          (None, 512)               0         \n",
      "_________________________________________________________________\n",
      "dense_7 (Dense)              (None, 512)               262656    \n",
      "_________________________________________________________________\n",
      "dropout_1 (Dropout)          (None, 512)               0         \n",
      "_________________________________________________________________\n",
      "dense_8 (Dense)              (None, 512)               262656    \n",
      "_________________________________________________________________\n",
      "dense_9 (Dense)              (None, 1)                 513       \n",
      "=================================================================\n",
      "Total params: 770,849\n",
      "Trainable params: 770,849\n",
      "Non-trainable params: 0\n",
      "_________________________________________________________________\n"
     ]
    }
   ],
   "source": [
    "model.summary()"
   ]
  },
  {
   "cell_type": "code",
   "execution_count": 12,
   "metadata": {},
   "outputs": [
    {
     "name": "stdout",
     "output_type": "stream",
     "text": [
      "Found 24997 images belonging to 2 classes.\n",
      "Found 8561 images belonging to 2 classes.\n"
     ]
    }
   ],
   "source": [
    "TRAINING_DIR = \"/tmp/cats-v-dogs/training\"\n",
    "train_datagen = ImageDataGenerator(\n",
    "      rescale=1./255,\n",
    "      rotation_range=40,\n",
    "      width_shift_range=0.2,\n",
    "      height_shift_range=0.2,\n",
    "      shear_range=0.2,\n",
    "      zoom_range=0.2,\n",
    "      horizontal_flip=True,\n",
    "      fill_mode='nearest')\n",
    "\n",
    "train_generator = train_datagen.flow_from_directory(TRAINING_DIR,\n",
    "                                    batch_size=30,\n",
    "                                    class_mode='binary',\n",
    "                                    target_size=(150, 150))\n",
    "\n",
    "VALIDATION_DIR = \"/tmp/cats-v-dogs/testing\"\n",
    "validation_datagen =ImageDataGenerator(rescale=1.0/255)\n",
    "\n",
    "validation_generator = validation_datagen.flow_from_directory(VALIDATION_DIR,\n",
    "                                    batch_size=30,\n",
    "                                    class_mode='binary',\n",
    "                                    target_size=(150, 150))\n",
    "\n"
   ]
  },
  {
   "cell_type": "code",
   "execution_count": 14,
   "metadata": {},
   "outputs": [
    {
     "name": "stdout",
     "output_type": "stream",
     "text": [
      "Epoch 1/100\n",
      "714/834 [========================>.....] - ETA: 1:00 - loss: 0.6685 - acc: 0.5958"
     ]
    },
    {
     "name": "stderr",
     "output_type": "stream",
     "text": [
      "c:\\python36\\lib\\site-packages\\PIL\\TiffImagePlugin.py:771: UserWarning: Possibly corrupt EXIF data.  Expecting to read 32 bytes but only got 0. Skipping tag 270\n",
      "  \"Possibly corrupt EXIF data.  \"\n",
      "c:\\python36\\lib\\site-packages\\PIL\\TiffImagePlugin.py:771: UserWarning: Possibly corrupt EXIF data.  Expecting to read 5 bytes but only got 0. Skipping tag 271\n",
      "  \"Possibly corrupt EXIF data.  \"\n",
      "c:\\python36\\lib\\site-packages\\PIL\\TiffImagePlugin.py:771: UserWarning: Possibly corrupt EXIF data.  Expecting to read 8 bytes but only got 0. Skipping tag 272\n",
      "  \"Possibly corrupt EXIF data.  \"\n",
      "c:\\python36\\lib\\site-packages\\PIL\\TiffImagePlugin.py:771: UserWarning: Possibly corrupt EXIF data.  Expecting to read 8 bytes but only got 0. Skipping tag 282\n",
      "  \"Possibly corrupt EXIF data.  \"\n",
      "c:\\python36\\lib\\site-packages\\PIL\\TiffImagePlugin.py:771: UserWarning: Possibly corrupt EXIF data.  Expecting to read 8 bytes but only got 0. Skipping tag 283\n",
      "  \"Possibly corrupt EXIF data.  \"\n",
      "c:\\python36\\lib\\site-packages\\PIL\\TiffImagePlugin.py:771: UserWarning: Possibly corrupt EXIF data.  Expecting to read 20 bytes but only got 0. Skipping tag 306\n",
      "  \"Possibly corrupt EXIF data.  \"\n",
      "c:\\python36\\lib\\site-packages\\PIL\\TiffImagePlugin.py:771: UserWarning: Possibly corrupt EXIF data.  Expecting to read 48 bytes but only got 0. Skipping tag 532\n",
      "  \"Possibly corrupt EXIF data.  \"\n",
      "c:\\python36\\lib\\site-packages\\PIL\\TiffImagePlugin.py:792: UserWarning: Corrupt EXIF data.  Expecting to read 2 bytes but only got 0. \n",
      "  warnings.warn(str(msg))\n"
     ]
    },
    {
     "name": "stdout",
     "output_type": "stream",
     "text": [
      "834/834 [==============================] - 559s 671ms/step - loss: 0.6646 - acc: 0.6012 - val_loss: 0.7425 - val_acc: 0.5443\n",
      "Epoch 2/100\n",
      "252/834 [========>.....................] - ETA: 2:31 - loss: 0.6293 - acc: 0.6553"
     ]
    },
    {
     "name": "stderr",
     "output_type": "stream",
     "text": [
      "c:\\python36\\lib\\site-packages\\PIL\\TiffImagePlugin.py:771: UserWarning: Possibly corrupt EXIF data.  Expecting to read 32 bytes but only got 0. Skipping tag 270\n",
      "  \"Possibly corrupt EXIF data.  \"\n",
      "c:\\python36\\lib\\site-packages\\PIL\\TiffImagePlugin.py:771: UserWarning: Possibly corrupt EXIF data.  Expecting to read 5 bytes but only got 0. Skipping tag 271\n",
      "  \"Possibly corrupt EXIF data.  \"\n",
      "c:\\python36\\lib\\site-packages\\PIL\\TiffImagePlugin.py:771: UserWarning: Possibly corrupt EXIF data.  Expecting to read 8 bytes but only got 0. Skipping tag 272\n",
      "  \"Possibly corrupt EXIF data.  \"\n",
      "c:\\python36\\lib\\site-packages\\PIL\\TiffImagePlugin.py:771: UserWarning: Possibly corrupt EXIF data.  Expecting to read 8 bytes but only got 0. Skipping tag 282\n",
      "  \"Possibly corrupt EXIF data.  \"\n",
      "c:\\python36\\lib\\site-packages\\PIL\\TiffImagePlugin.py:771: UserWarning: Possibly corrupt EXIF data.  Expecting to read 8 bytes but only got 0. Skipping tag 283\n",
      "  \"Possibly corrupt EXIF data.  \"\n",
      "c:\\python36\\lib\\site-packages\\PIL\\TiffImagePlugin.py:771: UserWarning: Possibly corrupt EXIF data.  Expecting to read 20 bytes but only got 0. Skipping tag 306\n",
      "  \"Possibly corrupt EXIF data.  \"\n",
      "c:\\python36\\lib\\site-packages\\PIL\\TiffImagePlugin.py:771: UserWarning: Possibly corrupt EXIF data.  Expecting to read 48 bytes but only got 0. Skipping tag 532\n",
      "  \"Possibly corrupt EXIF data.  \"\n",
      "c:\\python36\\lib\\site-packages\\PIL\\TiffImagePlugin.py:792: UserWarning: Corrupt EXIF data.  Expecting to read 2 bytes but only got 0. \n",
      "  warnings.warn(str(msg))\n"
     ]
    },
    {
     "name": "stdout",
     "output_type": "stream",
     "text": [
      "834/834 [==============================] - 263s 315ms/step - loss: 0.6137 - acc: 0.6706 - val_loss: 0.5499 - val_acc: 0.7171\n",
      "Epoch 3/100\n",
      "625/834 [=====================>........] - ETA: 57s - loss: 0.5822 - acc: 0.7043"
     ]
    },
    {
     "name": "stderr",
     "output_type": "stream",
     "text": [
      "c:\\python36\\lib\\site-packages\\PIL\\TiffImagePlugin.py:771: UserWarning: Possibly corrupt EXIF data.  Expecting to read 32 bytes but only got 0. Skipping tag 270\n",
      "  \"Possibly corrupt EXIF data.  \"\n",
      "c:\\python36\\lib\\site-packages\\PIL\\TiffImagePlugin.py:771: UserWarning: Possibly corrupt EXIF data.  Expecting to read 5 bytes but only got 0. Skipping tag 271\n",
      "  \"Possibly corrupt EXIF data.  \"\n",
      "c:\\python36\\lib\\site-packages\\PIL\\TiffImagePlugin.py:771: UserWarning: Possibly corrupt EXIF data.  Expecting to read 8 bytes but only got 0. Skipping tag 272\n",
      "  \"Possibly corrupt EXIF data.  \"\n",
      "c:\\python36\\lib\\site-packages\\PIL\\TiffImagePlugin.py:771: UserWarning: Possibly corrupt EXIF data.  Expecting to read 8 bytes but only got 0. Skipping tag 282\n",
      "  \"Possibly corrupt EXIF data.  \"\n",
      "c:\\python36\\lib\\site-packages\\PIL\\TiffImagePlugin.py:771: UserWarning: Possibly corrupt EXIF data.  Expecting to read 8 bytes but only got 0. Skipping tag 283\n",
      "  \"Possibly corrupt EXIF data.  \"\n",
      "c:\\python36\\lib\\site-packages\\PIL\\TiffImagePlugin.py:771: UserWarning: Possibly corrupt EXIF data.  Expecting to read 20 bytes but only got 0. Skipping tag 306\n",
      "  \"Possibly corrupt EXIF data.  \"\n",
      "c:\\python36\\lib\\site-packages\\PIL\\TiffImagePlugin.py:771: UserWarning: Possibly corrupt EXIF data.  Expecting to read 48 bytes but only got 0. Skipping tag 532\n",
      "  \"Possibly corrupt EXIF data.  \"\n",
      "c:\\python36\\lib\\site-packages\\PIL\\TiffImagePlugin.py:792: UserWarning: Corrupt EXIF data.  Expecting to read 2 bytes but only got 0. \n",
      "  warnings.warn(str(msg))\n"
     ]
    },
    {
     "name": "stdout",
     "output_type": "stream",
     "text": [
      "834/834 [==============================] - 261s 313ms/step - loss: 0.5796 - acc: 0.7072 - val_loss: 0.4836 - val_acc: 0.7716\n",
      "Epoch 4/100\n",
      "390/834 [=============>................] - ETA: 1:54 - loss: 0.5661 - acc: 0.7170"
     ]
    },
    {
     "name": "stderr",
     "output_type": "stream",
     "text": [
      "c:\\python36\\lib\\site-packages\\PIL\\TiffImagePlugin.py:771: UserWarning: Possibly corrupt EXIF data.  Expecting to read 32 bytes but only got 0. Skipping tag 270\n",
      "  \"Possibly corrupt EXIF data.  \"\n",
      "c:\\python36\\lib\\site-packages\\PIL\\TiffImagePlugin.py:771: UserWarning: Possibly corrupt EXIF data.  Expecting to read 5 bytes but only got 0. Skipping tag 271\n",
      "  \"Possibly corrupt EXIF data.  \"\n",
      "c:\\python36\\lib\\site-packages\\PIL\\TiffImagePlugin.py:771: UserWarning: Possibly corrupt EXIF data.  Expecting to read 8 bytes but only got 0. Skipping tag 272\n",
      "  \"Possibly corrupt EXIF data.  \"\n",
      "c:\\python36\\lib\\site-packages\\PIL\\TiffImagePlugin.py:771: UserWarning: Possibly corrupt EXIF data.  Expecting to read 8 bytes but only got 0. Skipping tag 282\n",
      "  \"Possibly corrupt EXIF data.  \"\n",
      "c:\\python36\\lib\\site-packages\\PIL\\TiffImagePlugin.py:771: UserWarning: Possibly corrupt EXIF data.  Expecting to read 8 bytes but only got 0. Skipping tag 283\n",
      "  \"Possibly corrupt EXIF data.  \"\n",
      "c:\\python36\\lib\\site-packages\\PIL\\TiffImagePlugin.py:771: UserWarning: Possibly corrupt EXIF data.  Expecting to read 20 bytes but only got 0. Skipping tag 306\n",
      "  \"Possibly corrupt EXIF data.  \"\n",
      "c:\\python36\\lib\\site-packages\\PIL\\TiffImagePlugin.py:771: UserWarning: Possibly corrupt EXIF data.  Expecting to read 48 bytes but only got 0. Skipping tag 532\n",
      "  \"Possibly corrupt EXIF data.  \"\n",
      "c:\\python36\\lib\\site-packages\\PIL\\TiffImagePlugin.py:792: UserWarning: Corrupt EXIF data.  Expecting to read 2 bytes but only got 0. \n",
      "  warnings.warn(str(msg))\n"
     ]
    },
    {
     "name": "stdout",
     "output_type": "stream",
     "text": [
      "834/834 [==============================] - 264s 316ms/step - loss: 0.5574 - acc: 0.7248 - val_loss: 0.4712 - val_acc: 0.7957\n",
      "Epoch 5/100\n",
      "758/834 [==========================>...] - ETA: 20s - loss: 0.5295 - acc: 0.7494"
     ]
    },
    {
     "name": "stderr",
     "output_type": "stream",
     "text": [
      "c:\\python36\\lib\\site-packages\\PIL\\TiffImagePlugin.py:771: UserWarning: Possibly corrupt EXIF data.  Expecting to read 32 bytes but only got 0. Skipping tag 270\n",
      "  \"Possibly corrupt EXIF data.  \"\n",
      "c:\\python36\\lib\\site-packages\\PIL\\TiffImagePlugin.py:771: UserWarning: Possibly corrupt EXIF data.  Expecting to read 5 bytes but only got 0. Skipping tag 271\n",
      "  \"Possibly corrupt EXIF data.  \"\n",
      "c:\\python36\\lib\\site-packages\\PIL\\TiffImagePlugin.py:771: UserWarning: Possibly corrupt EXIF data.  Expecting to read 8 bytes but only got 0. Skipping tag 272\n",
      "  \"Possibly corrupt EXIF data.  \"\n",
      "c:\\python36\\lib\\site-packages\\PIL\\TiffImagePlugin.py:771: UserWarning: Possibly corrupt EXIF data.  Expecting to read 8 bytes but only got 0. Skipping tag 282\n",
      "  \"Possibly corrupt EXIF data.  \"\n",
      "c:\\python36\\lib\\site-packages\\PIL\\TiffImagePlugin.py:771: UserWarning: Possibly corrupt EXIF data.  Expecting to read 8 bytes but only got 0. Skipping tag 283\n",
      "  \"Possibly corrupt EXIF data.  \"\n",
      "c:\\python36\\lib\\site-packages\\PIL\\TiffImagePlugin.py:771: UserWarning: Possibly corrupt EXIF data.  Expecting to read 20 bytes but only got 0. Skipping tag 306\n",
      "  \"Possibly corrupt EXIF data.  \"\n",
      "c:\\python36\\lib\\site-packages\\PIL\\TiffImagePlugin.py:771: UserWarning: Possibly corrupt EXIF data.  Expecting to read 48 bytes but only got 0. Skipping tag 532\n",
      "  \"Possibly corrupt EXIF data.  \"\n",
      "c:\\python36\\lib\\site-packages\\PIL\\TiffImagePlugin.py:792: UserWarning: Corrupt EXIF data.  Expecting to read 2 bytes but only got 0. \n",
      "  warnings.warn(str(msg))\n"
     ]
    },
    {
     "name": "stdout",
     "output_type": "stream",
     "text": [
      "834/834 [==============================] - 257s 308ms/step - loss: 0.5279 - acc: 0.7504 - val_loss: 0.4715 - val_acc: 0.7798\n",
      "Epoch 6/100\n",
      "632/834 [=====================>........] - ETA: 53s - loss: 0.5077 - acc: 0.7616"
     ]
    },
    {
     "name": "stderr",
     "output_type": "stream",
     "text": [
      "c:\\python36\\lib\\site-packages\\PIL\\TiffImagePlugin.py:771: UserWarning: Possibly corrupt EXIF data.  Expecting to read 32 bytes but only got 0. Skipping tag 270\n",
      "  \"Possibly corrupt EXIF data.  \"\n",
      "c:\\python36\\lib\\site-packages\\PIL\\TiffImagePlugin.py:771: UserWarning: Possibly corrupt EXIF data.  Expecting to read 5 bytes but only got 0. Skipping tag 271\n",
      "  \"Possibly corrupt EXIF data.  \"\n",
      "c:\\python36\\lib\\site-packages\\PIL\\TiffImagePlugin.py:771: UserWarning: Possibly corrupt EXIF data.  Expecting to read 8 bytes but only got 0. Skipping tag 272\n",
      "  \"Possibly corrupt EXIF data.  \"\n",
      "c:\\python36\\lib\\site-packages\\PIL\\TiffImagePlugin.py:771: UserWarning: Possibly corrupt EXIF data.  Expecting to read 8 bytes but only got 0. Skipping tag 282\n",
      "  \"Possibly corrupt EXIF data.  \"\n",
      "c:\\python36\\lib\\site-packages\\PIL\\TiffImagePlugin.py:771: UserWarning: Possibly corrupt EXIF data.  Expecting to read 8 bytes but only got 0. Skipping tag 283\n",
      "  \"Possibly corrupt EXIF data.  \"\n",
      "c:\\python36\\lib\\site-packages\\PIL\\TiffImagePlugin.py:771: UserWarning: Possibly corrupt EXIF data.  Expecting to read 20 bytes but only got 0. Skipping tag 306\n",
      "  \"Possibly corrupt EXIF data.  \"\n",
      "c:\\python36\\lib\\site-packages\\PIL\\TiffImagePlugin.py:771: UserWarning: Possibly corrupt EXIF data.  Expecting to read 48 bytes but only got 0. Skipping tag 532\n",
      "  \"Possibly corrupt EXIF data.  \"\n",
      "c:\\python36\\lib\\site-packages\\PIL\\TiffImagePlugin.py:792: UserWarning: Corrupt EXIF data.  Expecting to read 2 bytes but only got 0. \n",
      "  warnings.warn(str(msg))\n"
     ]
    },
    {
     "name": "stdout",
     "output_type": "stream",
     "text": [
      "834/834 [==============================] - 258s 309ms/step - loss: 0.5082 - acc: 0.7611 - val_loss: 0.4072 - val_acc: 0.8140\n",
      "Epoch 7/100\n",
      "671/834 [=======================>......] - ETA: 43s - loss: 0.5010 - acc: 0.7681"
     ]
    },
    {
     "name": "stderr",
     "output_type": "stream",
     "text": [
      "c:\\python36\\lib\\site-packages\\PIL\\TiffImagePlugin.py:771: UserWarning: Possibly corrupt EXIF data.  Expecting to read 32 bytes but only got 0. Skipping tag 270\n",
      "  \"Possibly corrupt EXIF data.  \"\n",
      "c:\\python36\\lib\\site-packages\\PIL\\TiffImagePlugin.py:771: UserWarning: Possibly corrupt EXIF data.  Expecting to read 5 bytes but only got 0. Skipping tag 271\n",
      "  \"Possibly corrupt EXIF data.  \"\n",
      "c:\\python36\\lib\\site-packages\\PIL\\TiffImagePlugin.py:771: UserWarning: Possibly corrupt EXIF data.  Expecting to read 8 bytes but only got 0. Skipping tag 272\n",
      "  \"Possibly corrupt EXIF data.  \"\n",
      "c:\\python36\\lib\\site-packages\\PIL\\TiffImagePlugin.py:771: UserWarning: Possibly corrupt EXIF data.  Expecting to read 8 bytes but only got 0. Skipping tag 282\n",
      "  \"Possibly corrupt EXIF data.  \"\n",
      "c:\\python36\\lib\\site-packages\\PIL\\TiffImagePlugin.py:771: UserWarning: Possibly corrupt EXIF data.  Expecting to read 8 bytes but only got 0. Skipping tag 283\n",
      "  \"Possibly corrupt EXIF data.  \"\n",
      "c:\\python36\\lib\\site-packages\\PIL\\TiffImagePlugin.py:771: UserWarning: Possibly corrupt EXIF data.  Expecting to read 20 bytes but only got 0. Skipping tag 306\n",
      "  \"Possibly corrupt EXIF data.  \"\n",
      "c:\\python36\\lib\\site-packages\\PIL\\TiffImagePlugin.py:771: UserWarning: Possibly corrupt EXIF data.  Expecting to read 48 bytes but only got 0. Skipping tag 532\n",
      "  \"Possibly corrupt EXIF data.  \"\n",
      "c:\\python36\\lib\\site-packages\\PIL\\TiffImagePlugin.py:792: UserWarning: Corrupt EXIF data.  Expecting to read 2 bytes but only got 0. \n",
      "  warnings.warn(str(msg))\n"
     ]
    },
    {
     "name": "stdout",
     "output_type": "stream",
     "text": [
      "834/834 [==============================] - 254s 305ms/step - loss: 0.4960 - acc: 0.7711 - val_loss: 0.4380 - val_acc: 0.7915\n",
      "Epoch 8/100\n",
      "659/834 [======================>.......] - ETA: 47s - loss: 0.4898 - acc: 0.7792"
     ]
    },
    {
     "name": "stderr",
     "output_type": "stream",
     "text": [
      "c:\\python36\\lib\\site-packages\\PIL\\TiffImagePlugin.py:771: UserWarning: Possibly corrupt EXIF data.  Expecting to read 32 bytes but only got 0. Skipping tag 270\n",
      "  \"Possibly corrupt EXIF data.  \"\n",
      "c:\\python36\\lib\\site-packages\\PIL\\TiffImagePlugin.py:771: UserWarning: Possibly corrupt EXIF data.  Expecting to read 5 bytes but only got 0. Skipping tag 271\n",
      "  \"Possibly corrupt EXIF data.  \"\n",
      "c:\\python36\\lib\\site-packages\\PIL\\TiffImagePlugin.py:771: UserWarning: Possibly corrupt EXIF data.  Expecting to read 8 bytes but only got 0. Skipping tag 272\n",
      "  \"Possibly corrupt EXIF data.  \"\n",
      "c:\\python36\\lib\\site-packages\\PIL\\TiffImagePlugin.py:771: UserWarning: Possibly corrupt EXIF data.  Expecting to read 8 bytes but only got 0. Skipping tag 282\n",
      "  \"Possibly corrupt EXIF data.  \"\n",
      "c:\\python36\\lib\\site-packages\\PIL\\TiffImagePlugin.py:771: UserWarning: Possibly corrupt EXIF data.  Expecting to read 8 bytes but only got 0. Skipping tag 283\n",
      "  \"Possibly corrupt EXIF data.  \"\n",
      "c:\\python36\\lib\\site-packages\\PIL\\TiffImagePlugin.py:771: UserWarning: Possibly corrupt EXIF data.  Expecting to read 20 bytes but only got 0. Skipping tag 306\n",
      "  \"Possibly corrupt EXIF data.  \"\n",
      "c:\\python36\\lib\\site-packages\\PIL\\TiffImagePlugin.py:771: UserWarning: Possibly corrupt EXIF data.  Expecting to read 48 bytes but only got 0. Skipping tag 532\n",
      "  \"Possibly corrupt EXIF data.  \"\n",
      "c:\\python36\\lib\\site-packages\\PIL\\TiffImagePlugin.py:792: UserWarning: Corrupt EXIF data.  Expecting to read 2 bytes but only got 0. \n",
      "  warnings.warn(str(msg))\n"
     ]
    },
    {
     "name": "stdout",
     "output_type": "stream",
     "text": [
      "834/834 [==============================] - 258s 310ms/step - loss: 0.4869 - acc: 0.7801 - val_loss: 0.5866 - val_acc: 0.8080\n",
      "Epoch 9/100\n",
      "465/834 [===============>..............] - ETA: 1:37 - loss: 0.4872 - acc: 0.7770"
     ]
    },
    {
     "name": "stderr",
     "output_type": "stream",
     "text": [
      "c:\\python36\\lib\\site-packages\\PIL\\TiffImagePlugin.py:771: UserWarning: Possibly corrupt EXIF data.  Expecting to read 32 bytes but only got 0. Skipping tag 270\n",
      "  \"Possibly corrupt EXIF data.  \"\n",
      "c:\\python36\\lib\\site-packages\\PIL\\TiffImagePlugin.py:771: UserWarning: Possibly corrupt EXIF data.  Expecting to read 5 bytes but only got 0. Skipping tag 271\n",
      "  \"Possibly corrupt EXIF data.  \"\n",
      "c:\\python36\\lib\\site-packages\\PIL\\TiffImagePlugin.py:771: UserWarning: Possibly corrupt EXIF data.  Expecting to read 8 bytes but only got 0. Skipping tag 272\n",
      "  \"Possibly corrupt EXIF data.  \"\n",
      "c:\\python36\\lib\\site-packages\\PIL\\TiffImagePlugin.py:771: UserWarning: Possibly corrupt EXIF data.  Expecting to read 8 bytes but only got 0. Skipping tag 282\n",
      "  \"Possibly corrupt EXIF data.  \"\n",
      "c:\\python36\\lib\\site-packages\\PIL\\TiffImagePlugin.py:771: UserWarning: Possibly corrupt EXIF data.  Expecting to read 8 bytes but only got 0. Skipping tag 283\n",
      "  \"Possibly corrupt EXIF data.  \"\n",
      "c:\\python36\\lib\\site-packages\\PIL\\TiffImagePlugin.py:771: UserWarning: Possibly corrupt EXIF data.  Expecting to read 20 bytes but only got 0. Skipping tag 306\n",
      "  \"Possibly corrupt EXIF data.  \"\n",
      "c:\\python36\\lib\\site-packages\\PIL\\TiffImagePlugin.py:771: UserWarning: Possibly corrupt EXIF data.  Expecting to read 48 bytes but only got 0. Skipping tag 532\n",
      "  \"Possibly corrupt EXIF data.  \"\n",
      "c:\\python36\\lib\\site-packages\\PIL\\TiffImagePlugin.py:792: UserWarning: Corrupt EXIF data.  Expecting to read 2 bytes but only got 0. \n",
      "  warnings.warn(str(msg))\n"
     ]
    },
    {
     "name": "stdout",
     "output_type": "stream",
     "text": [
      "834/834 [==============================] - 261s 313ms/step - loss: 0.4907 - acc: 0.7767 - val_loss: 0.3517 - val_acc: 0.8524\n",
      "Epoch 10/100\n",
      "347/834 [===========>..................] - ETA: 2:04 - loss: 0.5024 - acc: 0.7720"
     ]
    },
    {
     "name": "stderr",
     "output_type": "stream",
     "text": [
      "c:\\python36\\lib\\site-packages\\PIL\\TiffImagePlugin.py:771: UserWarning: Possibly corrupt EXIF data.  Expecting to read 32 bytes but only got 0. Skipping tag 270\n",
      "  \"Possibly corrupt EXIF data.  \"\n",
      "c:\\python36\\lib\\site-packages\\PIL\\TiffImagePlugin.py:771: UserWarning: Possibly corrupt EXIF data.  Expecting to read 5 bytes but only got 0. Skipping tag 271\n",
      "  \"Possibly corrupt EXIF data.  \"\n",
      "c:\\python36\\lib\\site-packages\\PIL\\TiffImagePlugin.py:771: UserWarning: Possibly corrupt EXIF data.  Expecting to read 8 bytes but only got 0. Skipping tag 272\n",
      "  \"Possibly corrupt EXIF data.  \"\n",
      "c:\\python36\\lib\\site-packages\\PIL\\TiffImagePlugin.py:771: UserWarning: Possibly corrupt EXIF data.  Expecting to read 8 bytes but only got 0. Skipping tag 282\n",
      "  \"Possibly corrupt EXIF data.  \"\n",
      "c:\\python36\\lib\\site-packages\\PIL\\TiffImagePlugin.py:771: UserWarning: Possibly corrupt EXIF data.  Expecting to read 8 bytes but only got 0. Skipping tag 283\n",
      "  \"Possibly corrupt EXIF data.  \"\n",
      "c:\\python36\\lib\\site-packages\\PIL\\TiffImagePlugin.py:771: UserWarning: Possibly corrupt EXIF data.  Expecting to read 20 bytes but only got 0. Skipping tag 306\n",
      "  \"Possibly corrupt EXIF data.  \"\n",
      "c:\\python36\\lib\\site-packages\\PIL\\TiffImagePlugin.py:771: UserWarning: Possibly corrupt EXIF data.  Expecting to read 48 bytes but only got 0. Skipping tag 532\n",
      "  \"Possibly corrupt EXIF data.  \"\n",
      "c:\\python36\\lib\\site-packages\\PIL\\TiffImagePlugin.py:792: UserWarning: Corrupt EXIF data.  Expecting to read 2 bytes but only got 0. \n",
      "  warnings.warn(str(msg))\n"
     ]
    },
    {
     "name": "stdout",
     "output_type": "stream",
     "text": [
      "834/834 [==============================] - 254s 305ms/step - loss: 0.5035 - acc: 0.7747 - val_loss: 0.4217 - val_acc: 0.8064\n",
      "Epoch 11/100\n",
      " 59/834 [=>............................] - ETA: 3:11 - loss: 0.4862 - acc: 0.7887"
     ]
    },
    {
     "name": "stderr",
     "output_type": "stream",
     "text": [
      "c:\\python36\\lib\\site-packages\\PIL\\TiffImagePlugin.py:771: UserWarning: Possibly corrupt EXIF data.  Expecting to read 32 bytes but only got 0. Skipping tag 270\n",
      "  \"Possibly corrupt EXIF data.  \"\n",
      "c:\\python36\\lib\\site-packages\\PIL\\TiffImagePlugin.py:771: UserWarning: Possibly corrupt EXIF data.  Expecting to read 5 bytes but only got 0. Skipping tag 271\n",
      "  \"Possibly corrupt EXIF data.  \"\n",
      "c:\\python36\\lib\\site-packages\\PIL\\TiffImagePlugin.py:771: UserWarning: Possibly corrupt EXIF data.  Expecting to read 8 bytes but only got 0. Skipping tag 272\n",
      "  \"Possibly corrupt EXIF data.  \"\n",
      "c:\\python36\\lib\\site-packages\\PIL\\TiffImagePlugin.py:771: UserWarning: Possibly corrupt EXIF data.  Expecting to read 8 bytes but only got 0. Skipping tag 282\n",
      "  \"Possibly corrupt EXIF data.  \"\n",
      "c:\\python36\\lib\\site-packages\\PIL\\TiffImagePlugin.py:771: UserWarning: Possibly corrupt EXIF data.  Expecting to read 8 bytes but only got 0. Skipping tag 283\n",
      "  \"Possibly corrupt EXIF data.  \"\n",
      "c:\\python36\\lib\\site-packages\\PIL\\TiffImagePlugin.py:771: UserWarning: Possibly corrupt EXIF data.  Expecting to read 20 bytes but only got 0. Skipping tag 306\n",
      "  \"Possibly corrupt EXIF data.  \"\n",
      "c:\\python36\\lib\\site-packages\\PIL\\TiffImagePlugin.py:771: UserWarning: Possibly corrupt EXIF data.  Expecting to read 48 bytes but only got 0. Skipping tag 532\n",
      "  \"Possibly corrupt EXIF data.  \"\n",
      "c:\\python36\\lib\\site-packages\\PIL\\TiffImagePlugin.py:792: UserWarning: Corrupt EXIF data.  Expecting to read 2 bytes but only got 0. \n",
      "  warnings.warn(str(msg))\n"
     ]
    },
    {
     "name": "stdout",
     "output_type": "stream",
     "text": [
      "834/834 [==============================] - 253s 303ms/step - loss: 0.5111 - acc: 0.7743 - val_loss: 0.3942 - val_acc: 0.8580\n",
      "Epoch 12/100\n",
      "740/834 [=========================>....] - ETA: 24s - loss: 0.5240 - acc: 0.7621"
     ]
    },
    {
     "name": "stderr",
     "output_type": "stream",
     "text": [
      "c:\\python36\\lib\\site-packages\\PIL\\TiffImagePlugin.py:771: UserWarning: Possibly corrupt EXIF data.  Expecting to read 32 bytes but only got 0. Skipping tag 270\n",
      "  \"Possibly corrupt EXIF data.  \"\n",
      "c:\\python36\\lib\\site-packages\\PIL\\TiffImagePlugin.py:771: UserWarning: Possibly corrupt EXIF data.  Expecting to read 5 bytes but only got 0. Skipping tag 271\n",
      "  \"Possibly corrupt EXIF data.  \"\n",
      "c:\\python36\\lib\\site-packages\\PIL\\TiffImagePlugin.py:771: UserWarning: Possibly corrupt EXIF data.  Expecting to read 8 bytes but only got 0. Skipping tag 272\n",
      "  \"Possibly corrupt EXIF data.  \"\n",
      "c:\\python36\\lib\\site-packages\\PIL\\TiffImagePlugin.py:771: UserWarning: Possibly corrupt EXIF data.  Expecting to read 8 bytes but only got 0. Skipping tag 282\n",
      "  \"Possibly corrupt EXIF data.  \"\n",
      "c:\\python36\\lib\\site-packages\\PIL\\TiffImagePlugin.py:771: UserWarning: Possibly corrupt EXIF data.  Expecting to read 8 bytes but only got 0. Skipping tag 283\n",
      "  \"Possibly corrupt EXIF data.  \"\n",
      "c:\\python36\\lib\\site-packages\\PIL\\TiffImagePlugin.py:771: UserWarning: Possibly corrupt EXIF data.  Expecting to read 20 bytes but only got 0. Skipping tag 306\n",
      "  \"Possibly corrupt EXIF data.  \"\n",
      "c:\\python36\\lib\\site-packages\\PIL\\TiffImagePlugin.py:771: UserWarning: Possibly corrupt EXIF data.  Expecting to read 48 bytes but only got 0. Skipping tag 532\n",
      "  \"Possibly corrupt EXIF data.  \"\n",
      "c:\\python36\\lib\\site-packages\\PIL\\TiffImagePlugin.py:792: UserWarning: Corrupt EXIF data.  Expecting to read 2 bytes but only got 0. \n",
      "  warnings.warn(str(msg))\n"
     ]
    },
    {
     "name": "stdout",
     "output_type": "stream",
     "text": [
      "834/834 [==============================] - 257s 308ms/step - loss: 0.5271 - acc: 0.7593 - val_loss: 0.4008 - val_acc: 0.8289\n",
      "Epoch 13/100\n",
      "129/834 [===>..........................] - ETA: 3:05 - loss: 0.5084 - acc: 0.7653"
     ]
    },
    {
     "name": "stderr",
     "output_type": "stream",
     "text": [
      "c:\\python36\\lib\\site-packages\\PIL\\TiffImagePlugin.py:771: UserWarning: Possibly corrupt EXIF data.  Expecting to read 32 bytes but only got 0. Skipping tag 270\n",
      "  \"Possibly corrupt EXIF data.  \"\n",
      "c:\\python36\\lib\\site-packages\\PIL\\TiffImagePlugin.py:771: UserWarning: Possibly corrupt EXIF data.  Expecting to read 5 bytes but only got 0. Skipping tag 271\n",
      "  \"Possibly corrupt EXIF data.  \"\n",
      "c:\\python36\\lib\\site-packages\\PIL\\TiffImagePlugin.py:771: UserWarning: Possibly corrupt EXIF data.  Expecting to read 8 bytes but only got 0. Skipping tag 272\n",
      "  \"Possibly corrupt EXIF data.  \"\n",
      "c:\\python36\\lib\\site-packages\\PIL\\TiffImagePlugin.py:771: UserWarning: Possibly corrupt EXIF data.  Expecting to read 8 bytes but only got 0. Skipping tag 282\n",
      "  \"Possibly corrupt EXIF data.  \"\n",
      "c:\\python36\\lib\\site-packages\\PIL\\TiffImagePlugin.py:771: UserWarning: Possibly corrupt EXIF data.  Expecting to read 8 bytes but only got 0. Skipping tag 283\n",
      "  \"Possibly corrupt EXIF data.  \"\n",
      "c:\\python36\\lib\\site-packages\\PIL\\TiffImagePlugin.py:771: UserWarning: Possibly corrupt EXIF data.  Expecting to read 20 bytes but only got 0. Skipping tag 306\n",
      "  \"Possibly corrupt EXIF data.  \"\n",
      "c:\\python36\\lib\\site-packages\\PIL\\TiffImagePlugin.py:771: UserWarning: Possibly corrupt EXIF data.  Expecting to read 48 bytes but only got 0. Skipping tag 532\n",
      "  \"Possibly corrupt EXIF data.  \"\n",
      "c:\\python36\\lib\\site-packages\\PIL\\TiffImagePlugin.py:792: UserWarning: Corrupt EXIF data.  Expecting to read 2 bytes but only got 0. \n",
      "  warnings.warn(str(msg))\n"
     ]
    },
    {
     "name": "stdout",
     "output_type": "stream",
     "text": [
      "834/834 [==============================] - 256s 307ms/step - loss: 0.5242 - acc: 0.7617 - val_loss: 0.4203 - val_acc: 0.8042\n",
      "Epoch 14/100\n",
      "745/834 [=========================>....] - ETA: 23s - loss: 0.5292 - acc: 0.7619"
     ]
    },
    {
     "name": "stderr",
     "output_type": "stream",
     "text": [
      "c:\\python36\\lib\\site-packages\\PIL\\TiffImagePlugin.py:771: UserWarning: Possibly corrupt EXIF data.  Expecting to read 32 bytes but only got 0. Skipping tag 270\n",
      "  \"Possibly corrupt EXIF data.  \"\n",
      "c:\\python36\\lib\\site-packages\\PIL\\TiffImagePlugin.py:771: UserWarning: Possibly corrupt EXIF data.  Expecting to read 5 bytes but only got 0. Skipping tag 271\n",
      "  \"Possibly corrupt EXIF data.  \"\n",
      "c:\\python36\\lib\\site-packages\\PIL\\TiffImagePlugin.py:771: UserWarning: Possibly corrupt EXIF data.  Expecting to read 8 bytes but only got 0. Skipping tag 272\n",
      "  \"Possibly corrupt EXIF data.  \"\n",
      "c:\\python36\\lib\\site-packages\\PIL\\TiffImagePlugin.py:771: UserWarning: Possibly corrupt EXIF data.  Expecting to read 8 bytes but only got 0. Skipping tag 282\n",
      "  \"Possibly corrupt EXIF data.  \"\n",
      "c:\\python36\\lib\\site-packages\\PIL\\TiffImagePlugin.py:771: UserWarning: Possibly corrupt EXIF data.  Expecting to read 8 bytes but only got 0. Skipping tag 283\n",
      "  \"Possibly corrupt EXIF data.  \"\n",
      "c:\\python36\\lib\\site-packages\\PIL\\TiffImagePlugin.py:771: UserWarning: Possibly corrupt EXIF data.  Expecting to read 20 bytes but only got 0. Skipping tag 306\n",
      "  \"Possibly corrupt EXIF data.  \"\n",
      "c:\\python36\\lib\\site-packages\\PIL\\TiffImagePlugin.py:771: UserWarning: Possibly corrupt EXIF data.  Expecting to read 48 bytes but only got 0. Skipping tag 532\n",
      "  \"Possibly corrupt EXIF data.  \"\n",
      "c:\\python36\\lib\\site-packages\\PIL\\TiffImagePlugin.py:792: UserWarning: Corrupt EXIF data.  Expecting to read 2 bytes but only got 0. \n",
      "  warnings.warn(str(msg))\n"
     ]
    },
    {
     "name": "stdout",
     "output_type": "stream",
     "text": [
      "834/834 [==============================] - 257s 308ms/step - loss: 0.5327 - acc: 0.7608 - val_loss: 0.4177 - val_acc: 0.8431\n",
      "Epoch 15/100\n",
      "269/834 [========>.....................] - ETA: 2:24 - loss: 0.5457 - acc: 0.7523"
     ]
    },
    {
     "name": "stderr",
     "output_type": "stream",
     "text": [
      "c:\\python36\\lib\\site-packages\\PIL\\TiffImagePlugin.py:771: UserWarning: Possibly corrupt EXIF data.  Expecting to read 32 bytes but only got 0. Skipping tag 270\n",
      "  \"Possibly corrupt EXIF data.  \"\n",
      "c:\\python36\\lib\\site-packages\\PIL\\TiffImagePlugin.py:771: UserWarning: Possibly corrupt EXIF data.  Expecting to read 5 bytes but only got 0. Skipping tag 271\n",
      "  \"Possibly corrupt EXIF data.  \"\n",
      "c:\\python36\\lib\\site-packages\\PIL\\TiffImagePlugin.py:771: UserWarning: Possibly corrupt EXIF data.  Expecting to read 8 bytes but only got 0. Skipping tag 272\n",
      "  \"Possibly corrupt EXIF data.  \"\n",
      "c:\\python36\\lib\\site-packages\\PIL\\TiffImagePlugin.py:771: UserWarning: Possibly corrupt EXIF data.  Expecting to read 8 bytes but only got 0. Skipping tag 282\n",
      "  \"Possibly corrupt EXIF data.  \"\n",
      "c:\\python36\\lib\\site-packages\\PIL\\TiffImagePlugin.py:771: UserWarning: Possibly corrupt EXIF data.  Expecting to read 8 bytes but only got 0. Skipping tag 283\n",
      "  \"Possibly corrupt EXIF data.  \"\n",
      "c:\\python36\\lib\\site-packages\\PIL\\TiffImagePlugin.py:771: UserWarning: Possibly corrupt EXIF data.  Expecting to read 20 bytes but only got 0. Skipping tag 306\n",
      "  \"Possibly corrupt EXIF data.  \"\n",
      "c:\\python36\\lib\\site-packages\\PIL\\TiffImagePlugin.py:771: UserWarning: Possibly corrupt EXIF data.  Expecting to read 48 bytes but only got 0. Skipping tag 532\n",
      "  \"Possibly corrupt EXIF data.  \"\n",
      "c:\\python36\\lib\\site-packages\\PIL\\TiffImagePlugin.py:792: UserWarning: Corrupt EXIF data.  Expecting to read 2 bytes but only got 0. \n",
      "  warnings.warn(str(msg))\n"
     ]
    },
    {
     "name": "stdout",
     "output_type": "stream",
     "text": [
      "834/834 [==============================] - 253s 304ms/step - loss: 0.5617 - acc: 0.7481 - val_loss: 0.5040 - val_acc: 0.7795\n",
      "Epoch 16/100\n",
      "310/834 [==========>...................] - ETA: 2:17 - loss: 0.5807 - acc: 0.7352"
     ]
    },
    {
     "name": "stderr",
     "output_type": "stream",
     "text": [
      "c:\\python36\\lib\\site-packages\\PIL\\TiffImagePlugin.py:771: UserWarning: Possibly corrupt EXIF data.  Expecting to read 32 bytes but only got 0. Skipping tag 270\n",
      "  \"Possibly corrupt EXIF data.  \"\n",
      "c:\\python36\\lib\\site-packages\\PIL\\TiffImagePlugin.py:771: UserWarning: Possibly corrupt EXIF data.  Expecting to read 5 bytes but only got 0. Skipping tag 271\n",
      "  \"Possibly corrupt EXIF data.  \"\n",
      "c:\\python36\\lib\\site-packages\\PIL\\TiffImagePlugin.py:771: UserWarning: Possibly corrupt EXIF data.  Expecting to read 8 bytes but only got 0. Skipping tag 272\n",
      "  \"Possibly corrupt EXIF data.  \"\n",
      "c:\\python36\\lib\\site-packages\\PIL\\TiffImagePlugin.py:771: UserWarning: Possibly corrupt EXIF data.  Expecting to read 8 bytes but only got 0. Skipping tag 282\n",
      "  \"Possibly corrupt EXIF data.  \"\n",
      "c:\\python36\\lib\\site-packages\\PIL\\TiffImagePlugin.py:771: UserWarning: Possibly corrupt EXIF data.  Expecting to read 8 bytes but only got 0. Skipping tag 283\n",
      "  \"Possibly corrupt EXIF data.  \"\n",
      "c:\\python36\\lib\\site-packages\\PIL\\TiffImagePlugin.py:771: UserWarning: Possibly corrupt EXIF data.  Expecting to read 20 bytes but only got 0. Skipping tag 306\n",
      "  \"Possibly corrupt EXIF data.  \"\n",
      "c:\\python36\\lib\\site-packages\\PIL\\TiffImagePlugin.py:771: UserWarning: Possibly corrupt EXIF data.  Expecting to read 48 bytes but only got 0. Skipping tag 532\n",
      "  \"Possibly corrupt EXIF data.  \"\n",
      "c:\\python36\\lib\\site-packages\\PIL\\TiffImagePlugin.py:792: UserWarning: Corrupt EXIF data.  Expecting to read 2 bytes but only got 0. \n",
      "  warnings.warn(str(msg))\n"
     ]
    },
    {
     "name": "stdout",
     "output_type": "stream",
     "text": [
      "834/834 [==============================] - 264s 317ms/step - loss: 0.5714 - acc: 0.7386 - val_loss: 0.4236 - val_acc: 0.8498\n",
      "Epoch 17/100\n",
      "264/834 [========>.....................] - ETA: 2:30 - loss: 0.5999 - acc: 0.7243"
     ]
    },
    {
     "name": "stderr",
     "output_type": "stream",
     "text": [
      "c:\\python36\\lib\\site-packages\\PIL\\TiffImagePlugin.py:771: UserWarning: Possibly corrupt EXIF data.  Expecting to read 32 bytes but only got 0. Skipping tag 270\n",
      "  \"Possibly corrupt EXIF data.  \"\n",
      "c:\\python36\\lib\\site-packages\\PIL\\TiffImagePlugin.py:771: UserWarning: Possibly corrupt EXIF data.  Expecting to read 5 bytes but only got 0. Skipping tag 271\n",
      "  \"Possibly corrupt EXIF data.  \"\n",
      "c:\\python36\\lib\\site-packages\\PIL\\TiffImagePlugin.py:771: UserWarning: Possibly corrupt EXIF data.  Expecting to read 8 bytes but only got 0. Skipping tag 272\n",
      "  \"Possibly corrupt EXIF data.  \"\n",
      "c:\\python36\\lib\\site-packages\\PIL\\TiffImagePlugin.py:771: UserWarning: Possibly corrupt EXIF data.  Expecting to read 8 bytes but only got 0. Skipping tag 282\n",
      "  \"Possibly corrupt EXIF data.  \"\n",
      "c:\\python36\\lib\\site-packages\\PIL\\TiffImagePlugin.py:771: UserWarning: Possibly corrupt EXIF data.  Expecting to read 8 bytes but only got 0. Skipping tag 283\n",
      "  \"Possibly corrupt EXIF data.  \"\n",
      "c:\\python36\\lib\\site-packages\\PIL\\TiffImagePlugin.py:771: UserWarning: Possibly corrupt EXIF data.  Expecting to read 20 bytes but only got 0. Skipping tag 306\n",
      "  \"Possibly corrupt EXIF data.  \"\n",
      "c:\\python36\\lib\\site-packages\\PIL\\TiffImagePlugin.py:771: UserWarning: Possibly corrupt EXIF data.  Expecting to read 48 bytes but only got 0. Skipping tag 532\n",
      "  \"Possibly corrupt EXIF data.  \"\n",
      "c:\\python36\\lib\\site-packages\\PIL\\TiffImagePlugin.py:792: UserWarning: Corrupt EXIF data.  Expecting to read 2 bytes but only got 0. \n",
      "  warnings.warn(str(msg))\n"
     ]
    },
    {
     "name": "stdout",
     "output_type": "stream",
     "text": [
      "834/834 [==============================] - 255s 306ms/step - loss: 0.5772 - acc: 0.7399 - val_loss: 0.4221 - val_acc: 0.8354\n",
      "Epoch 18/100\n",
      "124/834 [===>..........................] - ETA: 2:55 - loss: 0.5793 - acc: 0.7556"
     ]
    },
    {
     "name": "stderr",
     "output_type": "stream",
     "text": [
      "c:\\python36\\lib\\site-packages\\PIL\\TiffImagePlugin.py:771: UserWarning: Possibly corrupt EXIF data.  Expecting to read 32 bytes but only got 0. Skipping tag 270\n",
      "  \"Possibly corrupt EXIF data.  \"\n",
      "c:\\python36\\lib\\site-packages\\PIL\\TiffImagePlugin.py:771: UserWarning: Possibly corrupt EXIF data.  Expecting to read 5 bytes but only got 0. Skipping tag 271\n",
      "  \"Possibly corrupt EXIF data.  \"\n",
      "c:\\python36\\lib\\site-packages\\PIL\\TiffImagePlugin.py:771: UserWarning: Possibly corrupt EXIF data.  Expecting to read 8 bytes but only got 0. Skipping tag 272\n",
      "  \"Possibly corrupt EXIF data.  \"\n",
      "c:\\python36\\lib\\site-packages\\PIL\\TiffImagePlugin.py:771: UserWarning: Possibly corrupt EXIF data.  Expecting to read 8 bytes but only got 0. Skipping tag 282\n",
      "  \"Possibly corrupt EXIF data.  \"\n",
      "c:\\python36\\lib\\site-packages\\PIL\\TiffImagePlugin.py:771: UserWarning: Possibly corrupt EXIF data.  Expecting to read 8 bytes but only got 0. Skipping tag 283\n",
      "  \"Possibly corrupt EXIF data.  \"\n",
      "c:\\python36\\lib\\site-packages\\PIL\\TiffImagePlugin.py:771: UserWarning: Possibly corrupt EXIF data.  Expecting to read 20 bytes but only got 0. Skipping tag 306\n",
      "  \"Possibly corrupt EXIF data.  \"\n",
      "c:\\python36\\lib\\site-packages\\PIL\\TiffImagePlugin.py:771: UserWarning: Possibly corrupt EXIF data.  Expecting to read 48 bytes but only got 0. Skipping tag 532\n",
      "  \"Possibly corrupt EXIF data.  \"\n",
      "c:\\python36\\lib\\site-packages\\PIL\\TiffImagePlugin.py:792: UserWarning: Corrupt EXIF data.  Expecting to read 2 bytes but only got 0. \n",
      "  warnings.warn(str(msg))\n"
     ]
    },
    {
     "name": "stdout",
     "output_type": "stream",
     "text": [
      "834/834 [==============================] - 254s 305ms/step - loss: 0.5697 - acc: 0.7388 - val_loss: 0.4985 - val_acc: 0.7486\n",
      "Epoch 19/100\n",
      "399/834 [=============>................] - ETA: 1:55 - loss: 0.6739 - acc: 0.7415"
     ]
    },
    {
     "name": "stderr",
     "output_type": "stream",
     "text": [
      "c:\\python36\\lib\\site-packages\\PIL\\TiffImagePlugin.py:771: UserWarning: Possibly corrupt EXIF data.  Expecting to read 32 bytes but only got 0. Skipping tag 270\n",
      "  \"Possibly corrupt EXIF data.  \"\n",
      "c:\\python36\\lib\\site-packages\\PIL\\TiffImagePlugin.py:771: UserWarning: Possibly corrupt EXIF data.  Expecting to read 5 bytes but only got 0. Skipping tag 271\n",
      "  \"Possibly corrupt EXIF data.  \"\n",
      "c:\\python36\\lib\\site-packages\\PIL\\TiffImagePlugin.py:771: UserWarning: Possibly corrupt EXIF data.  Expecting to read 8 bytes but only got 0. Skipping tag 272\n",
      "  \"Possibly corrupt EXIF data.  \"\n",
      "c:\\python36\\lib\\site-packages\\PIL\\TiffImagePlugin.py:771: UserWarning: Possibly corrupt EXIF data.  Expecting to read 8 bytes but only got 0. Skipping tag 282\n",
      "  \"Possibly corrupt EXIF data.  \"\n",
      "c:\\python36\\lib\\site-packages\\PIL\\TiffImagePlugin.py:771: UserWarning: Possibly corrupt EXIF data.  Expecting to read 8 bytes but only got 0. Skipping tag 283\n",
      "  \"Possibly corrupt EXIF data.  \"\n",
      "c:\\python36\\lib\\site-packages\\PIL\\TiffImagePlugin.py:771: UserWarning: Possibly corrupt EXIF data.  Expecting to read 20 bytes but only got 0. Skipping tag 306\n",
      "  \"Possibly corrupt EXIF data.  \"\n",
      "c:\\python36\\lib\\site-packages\\PIL\\TiffImagePlugin.py:771: UserWarning: Possibly corrupt EXIF data.  Expecting to read 48 bytes but only got 0. Skipping tag 532\n",
      "  \"Possibly corrupt EXIF data.  \"\n",
      "c:\\python36\\lib\\site-packages\\PIL\\TiffImagePlugin.py:792: UserWarning: Corrupt EXIF data.  Expecting to read 2 bytes but only got 0. \n",
      "  warnings.warn(str(msg))\n"
     ]
    },
    {
     "name": "stdout",
     "output_type": "stream",
     "text": [
      "834/834 [==============================] - 257s 308ms/step - loss: 0.6345 - acc: 0.7335 - val_loss: 0.4509 - val_acc: 0.8276\n",
      "Epoch 20/100\n",
      "755/834 [==========================>...] - ETA: 21s - loss: 0.6007 - acc: 0.7301"
     ]
    },
    {
     "name": "stderr",
     "output_type": "stream",
     "text": [
      "c:\\python36\\lib\\site-packages\\PIL\\TiffImagePlugin.py:771: UserWarning: Possibly corrupt EXIF data.  Expecting to read 32 bytes but only got 0. Skipping tag 270\n",
      "  \"Possibly corrupt EXIF data.  \"\n",
      "c:\\python36\\lib\\site-packages\\PIL\\TiffImagePlugin.py:771: UserWarning: Possibly corrupt EXIF data.  Expecting to read 5 bytes but only got 0. Skipping tag 271\n",
      "  \"Possibly corrupt EXIF data.  \"\n",
      "c:\\python36\\lib\\site-packages\\PIL\\TiffImagePlugin.py:771: UserWarning: Possibly corrupt EXIF data.  Expecting to read 8 bytes but only got 0. Skipping tag 272\n",
      "  \"Possibly corrupt EXIF data.  \"\n",
      "c:\\python36\\lib\\site-packages\\PIL\\TiffImagePlugin.py:771: UserWarning: Possibly corrupt EXIF data.  Expecting to read 8 bytes but only got 0. Skipping tag 282\n",
      "  \"Possibly corrupt EXIF data.  \"\n",
      "c:\\python36\\lib\\site-packages\\PIL\\TiffImagePlugin.py:771: UserWarning: Possibly corrupt EXIF data.  Expecting to read 8 bytes but only got 0. Skipping tag 283\n",
      "  \"Possibly corrupt EXIF data.  \"\n",
      "c:\\python36\\lib\\site-packages\\PIL\\TiffImagePlugin.py:771: UserWarning: Possibly corrupt EXIF data.  Expecting to read 20 bytes but only got 0. Skipping tag 306\n",
      "  \"Possibly corrupt EXIF data.  \"\n",
      "c:\\python36\\lib\\site-packages\\PIL\\TiffImagePlugin.py:771: UserWarning: Possibly corrupt EXIF data.  Expecting to read 48 bytes but only got 0. Skipping tag 532\n",
      "  \"Possibly corrupt EXIF data.  \"\n",
      "c:\\python36\\lib\\site-packages\\PIL\\TiffImagePlugin.py:792: UserWarning: Corrupt EXIF data.  Expecting to read 2 bytes but only got 0. \n",
      "  warnings.warn(str(msg))\n"
     ]
    },
    {
     "name": "stdout",
     "output_type": "stream",
     "text": [
      "834/834 [==============================] - 258s 309ms/step - loss: 0.6015 - acc: 0.7283 - val_loss: 0.5739 - val_acc: 0.6992\n",
      "Epoch 21/100\n",
      "298/834 [=========>....................] - ETA: 2:23 - loss: 0.5973 - acc: 0.7355"
     ]
    },
    {
     "name": "stderr",
     "output_type": "stream",
     "text": [
      "c:\\python36\\lib\\site-packages\\PIL\\TiffImagePlugin.py:771: UserWarning: Possibly corrupt EXIF data.  Expecting to read 32 bytes but only got 0. Skipping tag 270\n",
      "  \"Possibly corrupt EXIF data.  \"\n",
      "c:\\python36\\lib\\site-packages\\PIL\\TiffImagePlugin.py:771: UserWarning: Possibly corrupt EXIF data.  Expecting to read 5 bytes but only got 0. Skipping tag 271\n",
      "  \"Possibly corrupt EXIF data.  \"\n",
      "c:\\python36\\lib\\site-packages\\PIL\\TiffImagePlugin.py:771: UserWarning: Possibly corrupt EXIF data.  Expecting to read 8 bytes but only got 0. Skipping tag 272\n",
      "  \"Possibly corrupt EXIF data.  \"\n",
      "c:\\python36\\lib\\site-packages\\PIL\\TiffImagePlugin.py:771: UserWarning: Possibly corrupt EXIF data.  Expecting to read 8 bytes but only got 0. Skipping tag 282\n",
      "  \"Possibly corrupt EXIF data.  \"\n",
      "c:\\python36\\lib\\site-packages\\PIL\\TiffImagePlugin.py:771: UserWarning: Possibly corrupt EXIF data.  Expecting to read 8 bytes but only got 0. Skipping tag 283\n",
      "  \"Possibly corrupt EXIF data.  \"\n",
      "c:\\python36\\lib\\site-packages\\PIL\\TiffImagePlugin.py:771: UserWarning: Possibly corrupt EXIF data.  Expecting to read 20 bytes but only got 0. Skipping tag 306\n",
      "  \"Possibly corrupt EXIF data.  \"\n",
      "c:\\python36\\lib\\site-packages\\PIL\\TiffImagePlugin.py:771: UserWarning: Possibly corrupt EXIF data.  Expecting to read 48 bytes but only got 0. Skipping tag 532\n",
      "  \"Possibly corrupt EXIF data.  \"\n",
      "c:\\python36\\lib\\site-packages\\PIL\\TiffImagePlugin.py:792: UserWarning: Corrupt EXIF data.  Expecting to read 2 bytes but only got 0. \n",
      "  warnings.warn(str(msg))\n"
     ]
    },
    {
     "name": "stdout",
     "output_type": "stream",
     "text": [
      "834/834 [==============================] - 256s 307ms/step - loss: 0.5932 - acc: 0.7306 - val_loss: 0.4773 - val_acc: 0.8448\n",
      "Epoch 22/100\n",
      " 48/834 [>.............................] - ETA: 3:15 - loss: 0.6476 - acc: 0.7139"
     ]
    },
    {
     "name": "stderr",
     "output_type": "stream",
     "text": [
      "c:\\python36\\lib\\site-packages\\PIL\\TiffImagePlugin.py:771: UserWarning: Possibly corrupt EXIF data.  Expecting to read 32 bytes but only got 0. Skipping tag 270\n",
      "  \"Possibly corrupt EXIF data.  \"\n",
      "c:\\python36\\lib\\site-packages\\PIL\\TiffImagePlugin.py:771: UserWarning: Possibly corrupt EXIF data.  Expecting to read 5 bytes but only got 0. Skipping tag 271\n",
      "  \"Possibly corrupt EXIF data.  \"\n",
      "c:\\python36\\lib\\site-packages\\PIL\\TiffImagePlugin.py:771: UserWarning: Possibly corrupt EXIF data.  Expecting to read 8 bytes but only got 0. Skipping tag 272\n",
      "  \"Possibly corrupt EXIF data.  \"\n",
      "c:\\python36\\lib\\site-packages\\PIL\\TiffImagePlugin.py:771: UserWarning: Possibly corrupt EXIF data.  Expecting to read 8 bytes but only got 0. Skipping tag 282\n",
      "  \"Possibly corrupt EXIF data.  \"\n",
      "c:\\python36\\lib\\site-packages\\PIL\\TiffImagePlugin.py:771: UserWarning: Possibly corrupt EXIF data.  Expecting to read 8 bytes but only got 0. Skipping tag 283\n",
      "  \"Possibly corrupt EXIF data.  \"\n",
      "c:\\python36\\lib\\site-packages\\PIL\\TiffImagePlugin.py:771: UserWarning: Possibly corrupt EXIF data.  Expecting to read 20 bytes but only got 0. Skipping tag 306\n",
      "  \"Possibly corrupt EXIF data.  \"\n",
      "c:\\python36\\lib\\site-packages\\PIL\\TiffImagePlugin.py:771: UserWarning: Possibly corrupt EXIF data.  Expecting to read 48 bytes but only got 0. Skipping tag 532\n",
      "  \"Possibly corrupt EXIF data.  \"\n",
      "c:\\python36\\lib\\site-packages\\PIL\\TiffImagePlugin.py:792: UserWarning: Corrupt EXIF data.  Expecting to read 2 bytes but only got 0. \n",
      "  warnings.warn(str(msg))\n"
     ]
    },
    {
     "name": "stdout",
     "output_type": "stream",
     "text": [
      "834/834 [==============================] - 253s 303ms/step - loss: 0.6321 - acc: 0.7137 - val_loss: 0.4204 - val_acc: 0.8318\n",
      "Epoch 23/100\n",
      "322/834 [==========>...................] - ETA: 2:13 - loss: 0.6628 - acc: 0.7079"
     ]
    },
    {
     "name": "stderr",
     "output_type": "stream",
     "text": [
      "c:\\python36\\lib\\site-packages\\PIL\\TiffImagePlugin.py:771: UserWarning: Possibly corrupt EXIF data.  Expecting to read 32 bytes but only got 0. Skipping tag 270\n",
      "  \"Possibly corrupt EXIF data.  \"\n",
      "c:\\python36\\lib\\site-packages\\PIL\\TiffImagePlugin.py:771: UserWarning: Possibly corrupt EXIF data.  Expecting to read 5 bytes but only got 0. Skipping tag 271\n",
      "  \"Possibly corrupt EXIF data.  \"\n",
      "c:\\python36\\lib\\site-packages\\PIL\\TiffImagePlugin.py:771: UserWarning: Possibly corrupt EXIF data.  Expecting to read 8 bytes but only got 0. Skipping tag 272\n",
      "  \"Possibly corrupt EXIF data.  \"\n",
      "c:\\python36\\lib\\site-packages\\PIL\\TiffImagePlugin.py:771: UserWarning: Possibly corrupt EXIF data.  Expecting to read 8 bytes but only got 0. Skipping tag 282\n",
      "  \"Possibly corrupt EXIF data.  \"\n",
      "c:\\python36\\lib\\site-packages\\PIL\\TiffImagePlugin.py:771: UserWarning: Possibly corrupt EXIF data.  Expecting to read 8 bytes but only got 0. Skipping tag 283\n",
      "  \"Possibly corrupt EXIF data.  \"\n",
      "c:\\python36\\lib\\site-packages\\PIL\\TiffImagePlugin.py:771: UserWarning: Possibly corrupt EXIF data.  Expecting to read 20 bytes but only got 0. Skipping tag 306\n",
      "  \"Possibly corrupt EXIF data.  \"\n",
      "c:\\python36\\lib\\site-packages\\PIL\\TiffImagePlugin.py:771: UserWarning: Possibly corrupt EXIF data.  Expecting to read 48 bytes but only got 0. Skipping tag 532\n",
      "  \"Possibly corrupt EXIF data.  \"\n",
      "c:\\python36\\lib\\site-packages\\PIL\\TiffImagePlugin.py:792: UserWarning: Corrupt EXIF data.  Expecting to read 2 bytes but only got 0. \n",
      "  warnings.warn(str(msg))\n"
     ]
    },
    {
     "name": "stdout",
     "output_type": "stream",
     "text": [
      "834/834 [==============================] - 262s 314ms/step - loss: 0.6553 - acc: 0.7118 - val_loss: 0.4127 - val_acc: 0.8285\n",
      "Epoch 24/100\n",
      "254/834 [========>.....................] - ETA: 2:32 - loss: 0.6205 - acc: 0.7144"
     ]
    },
    {
     "name": "stderr",
     "output_type": "stream",
     "text": [
      "c:\\python36\\lib\\site-packages\\PIL\\TiffImagePlugin.py:771: UserWarning: Possibly corrupt EXIF data.  Expecting to read 32 bytes but only got 0. Skipping tag 270\n",
      "  \"Possibly corrupt EXIF data.  \"\n",
      "c:\\python36\\lib\\site-packages\\PIL\\TiffImagePlugin.py:771: UserWarning: Possibly corrupt EXIF data.  Expecting to read 5 bytes but only got 0. Skipping tag 271\n",
      "  \"Possibly corrupt EXIF data.  \"\n",
      "c:\\python36\\lib\\site-packages\\PIL\\TiffImagePlugin.py:771: UserWarning: Possibly corrupt EXIF data.  Expecting to read 8 bytes but only got 0. Skipping tag 272\n",
      "  \"Possibly corrupt EXIF data.  \"\n",
      "c:\\python36\\lib\\site-packages\\PIL\\TiffImagePlugin.py:771: UserWarning: Possibly corrupt EXIF data.  Expecting to read 8 bytes but only got 0. Skipping tag 282\n",
      "  \"Possibly corrupt EXIF data.  \"\n",
      "c:\\python36\\lib\\site-packages\\PIL\\TiffImagePlugin.py:771: UserWarning: Possibly corrupt EXIF data.  Expecting to read 8 bytes but only got 0. Skipping tag 283\n",
      "  \"Possibly corrupt EXIF data.  \"\n",
      "c:\\python36\\lib\\site-packages\\PIL\\TiffImagePlugin.py:771: UserWarning: Possibly corrupt EXIF data.  Expecting to read 20 bytes but only got 0. Skipping tag 306\n",
      "  \"Possibly corrupt EXIF data.  \"\n",
      "c:\\python36\\lib\\site-packages\\PIL\\TiffImagePlugin.py:771: UserWarning: Possibly corrupt EXIF data.  Expecting to read 48 bytes but only got 0. Skipping tag 532\n",
      "  \"Possibly corrupt EXIF data.  \"\n",
      "c:\\python36\\lib\\site-packages\\PIL\\TiffImagePlugin.py:792: UserWarning: Corrupt EXIF data.  Expecting to read 2 bytes but only got 0. \n",
      "  warnings.warn(str(msg))\n"
     ]
    },
    {
     "name": "stdout",
     "output_type": "stream",
     "text": [
      "834/834 [==============================] - 258s 310ms/step - loss: 0.6496 - acc: 0.6973 - val_loss: 0.6569 - val_acc: 0.6319\n",
      "Epoch 25/100\n",
      "401/834 [=============>................] - ETA: 2:03 - loss: 0.6417 - acc: 0.7145"
     ]
    },
    {
     "name": "stderr",
     "output_type": "stream",
     "text": [
      "c:\\python36\\lib\\site-packages\\PIL\\TiffImagePlugin.py:771: UserWarning: Possibly corrupt EXIF data.  Expecting to read 32 bytes but only got 0. Skipping tag 270\n",
      "  \"Possibly corrupt EXIF data.  \"\n",
      "c:\\python36\\lib\\site-packages\\PIL\\TiffImagePlugin.py:771: UserWarning: Possibly corrupt EXIF data.  Expecting to read 5 bytes but only got 0. Skipping tag 271\n",
      "  \"Possibly corrupt EXIF data.  \"\n",
      "c:\\python36\\lib\\site-packages\\PIL\\TiffImagePlugin.py:771: UserWarning: Possibly corrupt EXIF data.  Expecting to read 8 bytes but only got 0. Skipping tag 272\n",
      "  \"Possibly corrupt EXIF data.  \"\n",
      "c:\\python36\\lib\\site-packages\\PIL\\TiffImagePlugin.py:771: UserWarning: Possibly corrupt EXIF data.  Expecting to read 8 bytes but only got 0. Skipping tag 282\n",
      "  \"Possibly corrupt EXIF data.  \"\n",
      "c:\\python36\\lib\\site-packages\\PIL\\TiffImagePlugin.py:771: UserWarning: Possibly corrupt EXIF data.  Expecting to read 8 bytes but only got 0. Skipping tag 283\n",
      "  \"Possibly corrupt EXIF data.  \"\n",
      "c:\\python36\\lib\\site-packages\\PIL\\TiffImagePlugin.py:771: UserWarning: Possibly corrupt EXIF data.  Expecting to read 20 bytes but only got 0. Skipping tag 306\n",
      "  \"Possibly corrupt EXIF data.  \"\n",
      "c:\\python36\\lib\\site-packages\\PIL\\TiffImagePlugin.py:771: UserWarning: Possibly corrupt EXIF data.  Expecting to read 48 bytes but only got 0. Skipping tag 532\n",
      "  \"Possibly corrupt EXIF data.  \"\n",
      "c:\\python36\\lib\\site-packages\\PIL\\TiffImagePlugin.py:792: UserWarning: Corrupt EXIF data.  Expecting to read 2 bytes but only got 0. \n",
      "  warnings.warn(str(msg))\n"
     ]
    },
    {
     "name": "stdout",
     "output_type": "stream",
     "text": [
      "834/834 [==============================] - 397s 476ms/step - loss: 0.6494 - acc: 0.7112 - val_loss: 0.4908 - val_acc: 0.7892\n",
      "Epoch 26/100\n",
      "131/834 [===>..........................] - ETA: 4:21 - loss: 0.6413 - acc: 0.7239"
     ]
    },
    {
     "name": "stderr",
     "output_type": "stream",
     "text": [
      "c:\\python36\\lib\\site-packages\\PIL\\TiffImagePlugin.py:771: UserWarning: Possibly corrupt EXIF data.  Expecting to read 32 bytes but only got 0. Skipping tag 270\n",
      "  \"Possibly corrupt EXIF data.  \"\n",
      "c:\\python36\\lib\\site-packages\\PIL\\TiffImagePlugin.py:771: UserWarning: Possibly corrupt EXIF data.  Expecting to read 5 bytes but only got 0. Skipping tag 271\n",
      "  \"Possibly corrupt EXIF data.  \"\n",
      "c:\\python36\\lib\\site-packages\\PIL\\TiffImagePlugin.py:771: UserWarning: Possibly corrupt EXIF data.  Expecting to read 8 bytes but only got 0. Skipping tag 272\n",
      "  \"Possibly corrupt EXIF data.  \"\n",
      "c:\\python36\\lib\\site-packages\\PIL\\TiffImagePlugin.py:771: UserWarning: Possibly corrupt EXIF data.  Expecting to read 8 bytes but only got 0. Skipping tag 282\n",
      "  \"Possibly corrupt EXIF data.  \"\n",
      "c:\\python36\\lib\\site-packages\\PIL\\TiffImagePlugin.py:771: UserWarning: Possibly corrupt EXIF data.  Expecting to read 8 bytes but only got 0. Skipping tag 283\n",
      "  \"Possibly corrupt EXIF data.  \"\n",
      "c:\\python36\\lib\\site-packages\\PIL\\TiffImagePlugin.py:771: UserWarning: Possibly corrupt EXIF data.  Expecting to read 20 bytes but only got 0. Skipping tag 306\n",
      "  \"Possibly corrupt EXIF data.  \"\n",
      "c:\\python36\\lib\\site-packages\\PIL\\TiffImagePlugin.py:771: UserWarning: Possibly corrupt EXIF data.  Expecting to read 48 bytes but only got 0. Skipping tag 532\n",
      "  \"Possibly corrupt EXIF data.  \"\n",
      "c:\\python36\\lib\\site-packages\\PIL\\TiffImagePlugin.py:792: UserWarning: Corrupt EXIF data.  Expecting to read 2 bytes but only got 0. \n",
      "  warnings.warn(str(msg))\n"
     ]
    },
    {
     "name": "stdout",
     "output_type": "stream",
     "text": [
      "834/834 [==============================] - 333s 399ms/step - loss: 0.6264 - acc: 0.7171 - val_loss: 0.5647 - val_acc: 0.7737\n",
      "Epoch 27/100\n",
      "138/834 [===>..........................] - ETA: 2:55 - loss: 0.7327 - acc: 0.7017"
     ]
    },
    {
     "name": "stderr",
     "output_type": "stream",
     "text": [
      "c:\\python36\\lib\\site-packages\\PIL\\TiffImagePlugin.py:771: UserWarning: Possibly corrupt EXIF data.  Expecting to read 32 bytes but only got 0. Skipping tag 270\n",
      "  \"Possibly corrupt EXIF data.  \"\n",
      "c:\\python36\\lib\\site-packages\\PIL\\TiffImagePlugin.py:771: UserWarning: Possibly corrupt EXIF data.  Expecting to read 5 bytes but only got 0. Skipping tag 271\n",
      "  \"Possibly corrupt EXIF data.  \"\n",
      "c:\\python36\\lib\\site-packages\\PIL\\TiffImagePlugin.py:771: UserWarning: Possibly corrupt EXIF data.  Expecting to read 8 bytes but only got 0. Skipping tag 272\n",
      "  \"Possibly corrupt EXIF data.  \"\n",
      "c:\\python36\\lib\\site-packages\\PIL\\TiffImagePlugin.py:771: UserWarning: Possibly corrupt EXIF data.  Expecting to read 8 bytes but only got 0. Skipping tag 282\n",
      "  \"Possibly corrupt EXIF data.  \"\n",
      "c:\\python36\\lib\\site-packages\\PIL\\TiffImagePlugin.py:771: UserWarning: Possibly corrupt EXIF data.  Expecting to read 8 bytes but only got 0. Skipping tag 283\n",
      "  \"Possibly corrupt EXIF data.  \"\n",
      "c:\\python36\\lib\\site-packages\\PIL\\TiffImagePlugin.py:771: UserWarning: Possibly corrupt EXIF data.  Expecting to read 20 bytes but only got 0. Skipping tag 306\n",
      "  \"Possibly corrupt EXIF data.  \"\n",
      "c:\\python36\\lib\\site-packages\\PIL\\TiffImagePlugin.py:771: UserWarning: Possibly corrupt EXIF data.  Expecting to read 48 bytes but only got 0. Skipping tag 532\n",
      "  \"Possibly corrupt EXIF data.  \"\n",
      "c:\\python36\\lib\\site-packages\\PIL\\TiffImagePlugin.py:792: UserWarning: Corrupt EXIF data.  Expecting to read 2 bytes but only got 0. \n",
      "  warnings.warn(str(msg))\n"
     ]
    },
    {
     "name": "stdout",
     "output_type": "stream",
     "text": [
      "500/834 [================>.............] - ETA: 1:30 - loss: 0.7036 - acc: 0.6980"
     ]
    },
    {
     "ename": "KeyboardInterrupt",
     "evalue": "",
     "output_type": "error",
     "traceback": [
      "\u001b[1;31m---------------------------------------------------------------------------\u001b[0m",
      "\u001b[1;31mKeyboardInterrupt\u001b[0m                         Traceback (most recent call last)",
      "\u001b[1;32m<ipython-input-14-a476cbb2d9bb>\u001b[0m in \u001b[0;36m<module>\u001b[1;34m\u001b[0m\n\u001b[0;32m      2\u001b[0m                               \u001b[0mepochs\u001b[0m\u001b[1;33m=\u001b[0m\u001b[1;36m100\u001b[0m\u001b[1;33m,\u001b[0m\u001b[1;33m\u001b[0m\u001b[1;33m\u001b[0m\u001b[0m\n\u001b[0;32m      3\u001b[0m                               \u001b[0mverbose\u001b[0m\u001b[1;33m=\u001b[0m\u001b[1;36m1\u001b[0m\u001b[1;33m,\u001b[0m\u001b[1;33m\u001b[0m\u001b[1;33m\u001b[0m\u001b[0m\n\u001b[1;32m----> 4\u001b[1;33m                               validation_data=validation_generator)\n\u001b[0m\u001b[0;32m      5\u001b[0m \u001b[1;32mfrom\u001b[0m \u001b[0mtensorflow\u001b[0m\u001b[1;33m.\u001b[0m\u001b[0mkeras\u001b[0m\u001b[1;33m.\u001b[0m\u001b[0mmodels\u001b[0m \u001b[1;32mimport\u001b[0m \u001b[0msave_model\u001b[0m\u001b[1;33m,\u001b[0m \u001b[0mload_model\u001b[0m\u001b[1;33m\u001b[0m\u001b[1;33m\u001b[0m\u001b[0m\n\u001b[0;32m      6\u001b[0m \u001b[0mmodel\u001b[0m\u001b[1;33m.\u001b[0m\u001b[0msave\u001b[0m\u001b[1;33m(\u001b[0m\u001b[1;34m'catdog2.h5'\u001b[0m\u001b[1;33m)\u001b[0m\u001b[1;33m\u001b[0m\u001b[1;33m\u001b[0m\u001b[0m\n",
      "\u001b[1;32mc:\\python36\\lib\\site-packages\\tensorflow_core\\python\\keras\\engine\\training.py\u001b[0m in \u001b[0;36mfit_generator\u001b[1;34m(self, generator, steps_per_epoch, epochs, verbose, callbacks, validation_data, validation_steps, validation_freq, class_weight, max_queue_size, workers, use_multiprocessing, shuffle, initial_epoch)\u001b[0m\n\u001b[0;32m   1295\u001b[0m         \u001b[0mshuffle\u001b[0m\u001b[1;33m=\u001b[0m\u001b[0mshuffle\u001b[0m\u001b[1;33m,\u001b[0m\u001b[1;33m\u001b[0m\u001b[1;33m\u001b[0m\u001b[0m\n\u001b[0;32m   1296\u001b[0m         \u001b[0minitial_epoch\u001b[0m\u001b[1;33m=\u001b[0m\u001b[0minitial_epoch\u001b[0m\u001b[1;33m,\u001b[0m\u001b[1;33m\u001b[0m\u001b[1;33m\u001b[0m\u001b[0m\n\u001b[1;32m-> 1297\u001b[1;33m         steps_name='steps_per_epoch')\n\u001b[0m\u001b[0;32m   1298\u001b[0m \u001b[1;33m\u001b[0m\u001b[0m\n\u001b[0;32m   1299\u001b[0m   def evaluate_generator(self,\n",
      "\u001b[1;32mc:\\python36\\lib\\site-packages\\tensorflow_core\\python\\keras\\engine\\training_generator.py\u001b[0m in \u001b[0;36mmodel_iteration\u001b[1;34m(model, data, steps_per_epoch, epochs, verbose, callbacks, validation_data, validation_steps, validation_freq, class_weight, max_queue_size, workers, use_multiprocessing, shuffle, initial_epoch, mode, batch_size, steps_name, **kwargs)\u001b[0m\n\u001b[0;32m    263\u001b[0m \u001b[1;33m\u001b[0m\u001b[0m\n\u001b[0;32m    264\u001b[0m       \u001b[0mis_deferred\u001b[0m \u001b[1;33m=\u001b[0m \u001b[1;32mnot\u001b[0m \u001b[0mmodel\u001b[0m\u001b[1;33m.\u001b[0m\u001b[0m_is_compiled\u001b[0m\u001b[1;33m\u001b[0m\u001b[1;33m\u001b[0m\u001b[0m\n\u001b[1;32m--> 265\u001b[1;33m       \u001b[0mbatch_outs\u001b[0m \u001b[1;33m=\u001b[0m \u001b[0mbatch_function\u001b[0m\u001b[1;33m(\u001b[0m\u001b[1;33m*\u001b[0m\u001b[0mbatch_data\u001b[0m\u001b[1;33m)\u001b[0m\u001b[1;33m\u001b[0m\u001b[1;33m\u001b[0m\u001b[0m\n\u001b[0m\u001b[0;32m    266\u001b[0m       \u001b[1;32mif\u001b[0m \u001b[1;32mnot\u001b[0m \u001b[0misinstance\u001b[0m\u001b[1;33m(\u001b[0m\u001b[0mbatch_outs\u001b[0m\u001b[1;33m,\u001b[0m \u001b[0mlist\u001b[0m\u001b[1;33m)\u001b[0m\u001b[1;33m:\u001b[0m\u001b[1;33m\u001b[0m\u001b[1;33m\u001b[0m\u001b[0m\n\u001b[0;32m    267\u001b[0m         \u001b[0mbatch_outs\u001b[0m \u001b[1;33m=\u001b[0m \u001b[1;33m[\u001b[0m\u001b[0mbatch_outs\u001b[0m\u001b[1;33m]\u001b[0m\u001b[1;33m\u001b[0m\u001b[1;33m\u001b[0m\u001b[0m\n",
      "\u001b[1;32mc:\\python36\\lib\\site-packages\\tensorflow_core\\python\\keras\\engine\\training.py\u001b[0m in \u001b[0;36mtrain_on_batch\u001b[1;34m(self, x, y, sample_weight, class_weight, reset_metrics)\u001b[0m\n\u001b[0;32m    971\u001b[0m       outputs = training_v2_utils.train_on_batch(\n\u001b[0;32m    972\u001b[0m           \u001b[0mself\u001b[0m\u001b[1;33m,\u001b[0m \u001b[0mx\u001b[0m\u001b[1;33m,\u001b[0m \u001b[0my\u001b[0m\u001b[1;33m=\u001b[0m\u001b[0my\u001b[0m\u001b[1;33m,\u001b[0m \u001b[0msample_weight\u001b[0m\u001b[1;33m=\u001b[0m\u001b[0msample_weight\u001b[0m\u001b[1;33m,\u001b[0m\u001b[1;33m\u001b[0m\u001b[1;33m\u001b[0m\u001b[0m\n\u001b[1;32m--> 973\u001b[1;33m           class_weight=class_weight, reset_metrics=reset_metrics)\n\u001b[0m\u001b[0;32m    974\u001b[0m       outputs = (outputs['total_loss'] + outputs['output_losses'] +\n\u001b[0;32m    975\u001b[0m                  outputs['metrics'])\n",
      "\u001b[1;32mc:\\python36\\lib\\site-packages\\tensorflow_core\\python\\keras\\engine\\training_v2_utils.py\u001b[0m in \u001b[0;36mtrain_on_batch\u001b[1;34m(model, x, y, sample_weight, class_weight, reset_metrics)\u001b[0m\n\u001b[0;32m    262\u001b[0m       \u001b[0my\u001b[0m\u001b[1;33m,\u001b[0m\u001b[1;33m\u001b[0m\u001b[1;33m\u001b[0m\u001b[0m\n\u001b[0;32m    263\u001b[0m       \u001b[0msample_weights\u001b[0m\u001b[1;33m=\u001b[0m\u001b[0msample_weights\u001b[0m\u001b[1;33m,\u001b[0m\u001b[1;33m\u001b[0m\u001b[1;33m\u001b[0m\u001b[0m\n\u001b[1;32m--> 264\u001b[1;33m       output_loss_metrics=model._output_loss_metrics)\n\u001b[0m\u001b[0;32m    265\u001b[0m \u001b[1;33m\u001b[0m\u001b[0m\n\u001b[0;32m    266\u001b[0m   \u001b[1;32mif\u001b[0m \u001b[0mreset_metrics\u001b[0m\u001b[1;33m:\u001b[0m\u001b[1;33m\u001b[0m\u001b[1;33m\u001b[0m\u001b[0m\n",
      "\u001b[1;32mc:\\python36\\lib\\site-packages\\tensorflow_core\\python\\keras\\engine\\training_eager.py\u001b[0m in \u001b[0;36mtrain_on_batch\u001b[1;34m(model, inputs, targets, sample_weights, output_loss_metrics)\u001b[0m\n\u001b[0;32m    309\u001b[0m           \u001b[0msample_weights\u001b[0m\u001b[1;33m=\u001b[0m\u001b[0msample_weights\u001b[0m\u001b[1;33m,\u001b[0m\u001b[1;33m\u001b[0m\u001b[1;33m\u001b[0m\u001b[0m\n\u001b[0;32m    310\u001b[0m           \u001b[0mtraining\u001b[0m\u001b[1;33m=\u001b[0m\u001b[1;32mTrue\u001b[0m\u001b[1;33m,\u001b[0m\u001b[1;33m\u001b[0m\u001b[1;33m\u001b[0m\u001b[0m\n\u001b[1;32m--> 311\u001b[1;33m           output_loss_metrics=output_loss_metrics))\n\u001b[0m\u001b[0;32m    312\u001b[0m   \u001b[1;32mif\u001b[0m \u001b[1;32mnot\u001b[0m \u001b[0misinstance\u001b[0m\u001b[1;33m(\u001b[0m\u001b[0mouts\u001b[0m\u001b[1;33m,\u001b[0m \u001b[0mlist\u001b[0m\u001b[1;33m)\u001b[0m\u001b[1;33m:\u001b[0m\u001b[1;33m\u001b[0m\u001b[1;33m\u001b[0m\u001b[0m\n\u001b[0;32m    313\u001b[0m     \u001b[0mouts\u001b[0m \u001b[1;33m=\u001b[0m \u001b[1;33m[\u001b[0m\u001b[0mouts\u001b[0m\u001b[1;33m]\u001b[0m\u001b[1;33m\u001b[0m\u001b[1;33m\u001b[0m\u001b[0m\n",
      "\u001b[1;32mc:\\python36\\lib\\site-packages\\tensorflow_core\\python\\keras\\engine\\training_eager.py\u001b[0m in \u001b[0;36m_process_single_batch\u001b[1;34m(model, inputs, targets, output_loss_metrics, sample_weights, training)\u001b[0m\n\u001b[0;32m    266\u001b[0m           \u001b[0mmodel\u001b[0m\u001b[1;33m.\u001b[0m\u001b[0m_backwards\u001b[0m\u001b[1;33m(\u001b[0m\u001b[0mtape\u001b[0m\u001b[1;33m,\u001b[0m \u001b[0mscaled_total_loss\u001b[0m\u001b[1;33m)\u001b[0m\u001b[1;33m\u001b[0m\u001b[1;33m\u001b[0m\u001b[0m\n\u001b[0;32m    267\u001b[0m         \u001b[1;32melse\u001b[0m\u001b[1;33m:\u001b[0m\u001b[1;33m\u001b[0m\u001b[1;33m\u001b[0m\u001b[0m\n\u001b[1;32m--> 268\u001b[1;33m           \u001b[0mgrads\u001b[0m \u001b[1;33m=\u001b[0m \u001b[0mtape\u001b[0m\u001b[1;33m.\u001b[0m\u001b[0mgradient\u001b[0m\u001b[1;33m(\u001b[0m\u001b[0mscaled_total_loss\u001b[0m\u001b[1;33m,\u001b[0m \u001b[0mtrainable_weights\u001b[0m\u001b[1;33m)\u001b[0m\u001b[1;33m\u001b[0m\u001b[1;33m\u001b[0m\u001b[0m\n\u001b[0m\u001b[0;32m    269\u001b[0m           if isinstance(model.optimizer,\n\u001b[0;32m    270\u001b[0m                         loss_scale_optimizer.LossScaleOptimizer):\n",
      "\u001b[1;32mc:\\python36\\lib\\site-packages\\tensorflow_core\\python\\eager\\backprop.py\u001b[0m in \u001b[0;36mgradient\u001b[1;34m(self, target, sources, output_gradients, unconnected_gradients)\u001b[0m\n\u001b[0;32m   1012\u001b[0m         \u001b[0moutput_gradients\u001b[0m\u001b[1;33m=\u001b[0m\u001b[0moutput_gradients\u001b[0m\u001b[1;33m,\u001b[0m\u001b[1;33m\u001b[0m\u001b[1;33m\u001b[0m\u001b[0m\n\u001b[0;32m   1013\u001b[0m         \u001b[0msources_raw\u001b[0m\u001b[1;33m=\u001b[0m\u001b[0mflat_sources_raw\u001b[0m\u001b[1;33m,\u001b[0m\u001b[1;33m\u001b[0m\u001b[1;33m\u001b[0m\u001b[0m\n\u001b[1;32m-> 1014\u001b[1;33m         unconnected_gradients=unconnected_gradients)\n\u001b[0m\u001b[0;32m   1015\u001b[0m \u001b[1;33m\u001b[0m\u001b[0m\n\u001b[0;32m   1016\u001b[0m     \u001b[1;32mif\u001b[0m \u001b[1;32mnot\u001b[0m \u001b[0mself\u001b[0m\u001b[1;33m.\u001b[0m\u001b[0m_persistent\u001b[0m\u001b[1;33m:\u001b[0m\u001b[1;33m\u001b[0m\u001b[1;33m\u001b[0m\u001b[0m\n",
      "\u001b[1;32mc:\\python36\\lib\\site-packages\\tensorflow_core\\python\\eager\\imperative_grad.py\u001b[0m in \u001b[0;36mimperative_grad\u001b[1;34m(tape, target, sources, output_gradients, sources_raw, unconnected_gradients)\u001b[0m\n\u001b[0;32m     74\u001b[0m       \u001b[0moutput_gradients\u001b[0m\u001b[1;33m,\u001b[0m\u001b[1;33m\u001b[0m\u001b[1;33m\u001b[0m\u001b[0m\n\u001b[0;32m     75\u001b[0m       \u001b[0msources_raw\u001b[0m\u001b[1;33m,\u001b[0m\u001b[1;33m\u001b[0m\u001b[1;33m\u001b[0m\u001b[0m\n\u001b[1;32m---> 76\u001b[1;33m       compat.as_str(unconnected_gradients.value))\n\u001b[0m",
      "\u001b[1;32mc:\\python36\\lib\\site-packages\\tensorflow_core\\python\\eager\\backprop.py\u001b[0m in \u001b[0;36m_gradient_function\u001b[1;34m(op_name, attr_tuple, num_inputs, inputs, outputs, out_grads, skip_input_indices)\u001b[0m\n\u001b[0;32m    136\u001b[0m     \u001b[1;32mreturn\u001b[0m \u001b[1;33m[\u001b[0m\u001b[1;32mNone\u001b[0m\u001b[1;33m]\u001b[0m \u001b[1;33m*\u001b[0m \u001b[0mnum_inputs\u001b[0m\u001b[1;33m\u001b[0m\u001b[1;33m\u001b[0m\u001b[0m\n\u001b[0;32m    137\u001b[0m \u001b[1;33m\u001b[0m\u001b[0m\n\u001b[1;32m--> 138\u001b[1;33m   \u001b[1;32mreturn\u001b[0m \u001b[0mgrad_fn\u001b[0m\u001b[1;33m(\u001b[0m\u001b[0mmock_op\u001b[0m\u001b[1;33m,\u001b[0m \u001b[1;33m*\u001b[0m\u001b[0mout_grads\u001b[0m\u001b[1;33m)\u001b[0m\u001b[1;33m\u001b[0m\u001b[1;33m\u001b[0m\u001b[0m\n\u001b[0m\u001b[0;32m    139\u001b[0m \u001b[1;33m\u001b[0m\u001b[0m\n\u001b[0;32m    140\u001b[0m \u001b[1;33m\u001b[0m\u001b[0m\n",
      "\u001b[1;32mc:\\python36\\lib\\site-packages\\tensorflow_core\\python\\ops\\nn_grad.py\u001b[0m in \u001b[0;36m_Conv2DGrad\u001b[1;34m(op, grad)\u001b[0m\n\u001b[0;32m    576\u001b[0m   \u001b[0muse_cudnn_on_gpu\u001b[0m \u001b[1;33m=\u001b[0m \u001b[0mop\u001b[0m\u001b[1;33m.\u001b[0m\u001b[0mget_attr\u001b[0m\u001b[1;33m(\u001b[0m\u001b[1;34m\"use_cudnn_on_gpu\"\u001b[0m\u001b[1;33m)\u001b[0m\u001b[1;33m\u001b[0m\u001b[1;33m\u001b[0m\u001b[0m\n\u001b[0;32m    577\u001b[0m   \u001b[0mdata_format\u001b[0m \u001b[1;33m=\u001b[0m \u001b[0mop\u001b[0m\u001b[1;33m.\u001b[0m\u001b[0mget_attr\u001b[0m\u001b[1;33m(\u001b[0m\u001b[1;34m\"data_format\"\u001b[0m\u001b[1;33m)\u001b[0m\u001b[1;33m\u001b[0m\u001b[1;33m\u001b[0m\u001b[0m\n\u001b[1;32m--> 578\u001b[1;33m   \u001b[0mshape_0\u001b[0m\u001b[1;33m,\u001b[0m \u001b[0mshape_1\u001b[0m \u001b[1;33m=\u001b[0m \u001b[0marray_ops\u001b[0m\u001b[1;33m.\u001b[0m\u001b[0mshape_n\u001b[0m\u001b[1;33m(\u001b[0m\u001b[1;33m[\u001b[0m\u001b[0mop\u001b[0m\u001b[1;33m.\u001b[0m\u001b[0minputs\u001b[0m\u001b[1;33m[\u001b[0m\u001b[1;36m0\u001b[0m\u001b[1;33m]\u001b[0m\u001b[1;33m,\u001b[0m \u001b[0mop\u001b[0m\u001b[1;33m.\u001b[0m\u001b[0minputs\u001b[0m\u001b[1;33m[\u001b[0m\u001b[1;36m1\u001b[0m\u001b[1;33m]\u001b[0m\u001b[1;33m]\u001b[0m\u001b[1;33m)\u001b[0m\u001b[1;33m\u001b[0m\u001b[1;33m\u001b[0m\u001b[0m\n\u001b[0m\u001b[0;32m    579\u001b[0m \u001b[1;33m\u001b[0m\u001b[0m\n\u001b[0;32m    580\u001b[0m   \u001b[1;31m# We call the gen_nn_ops backprop functions instead of nn_ops backprop\u001b[0m\u001b[1;33m\u001b[0m\u001b[1;33m\u001b[0m\u001b[1;33m\u001b[0m\u001b[0m\n",
      "\u001b[1;32mc:\\python36\\lib\\site-packages\\tensorflow_core\\python\\ops\\array_ops.py\u001b[0m in \u001b[0;36mshape_n\u001b[1;34m(input, out_type, name)\u001b[0m\n\u001b[0;32m    503\u001b[0m   \"\"\"\n\u001b[0;32m    504\u001b[0m \u001b[1;33m\u001b[0m\u001b[0m\n\u001b[1;32m--> 505\u001b[1;33m   \u001b[1;32mreturn\u001b[0m \u001b[0mgen_array_ops\u001b[0m\u001b[1;33m.\u001b[0m\u001b[0mshape_n\u001b[0m\u001b[1;33m(\u001b[0m\u001b[0minput\u001b[0m\u001b[1;33m,\u001b[0m \u001b[0mout_type\u001b[0m\u001b[1;33m=\u001b[0m\u001b[0mout_type\u001b[0m\u001b[1;33m,\u001b[0m \u001b[0mname\u001b[0m\u001b[1;33m=\u001b[0m\u001b[0mname\u001b[0m\u001b[1;33m)\u001b[0m\u001b[1;33m\u001b[0m\u001b[1;33m\u001b[0m\u001b[0m\n\u001b[0m\u001b[0;32m    506\u001b[0m \u001b[1;33m\u001b[0m\u001b[0m\n\u001b[0;32m    507\u001b[0m \u001b[1;33m\u001b[0m\u001b[0m\n",
      "\u001b[1;32mc:\\python36\\lib\\site-packages\\tensorflow_core\\python\\ops\\gen_array_ops.py\u001b[0m in \u001b[0;36mshape_n\u001b[1;34m(input, out_type, name)\u001b[0m\n\u001b[0;32m   9032\u001b[0m       _result = _pywrap_tensorflow.TFE_Py_FastPathExecute(\n\u001b[0;32m   9033\u001b[0m         \u001b[0m_ctx\u001b[0m\u001b[1;33m.\u001b[0m\u001b[0m_context_handle\u001b[0m\u001b[1;33m,\u001b[0m \u001b[0m_ctx\u001b[0m\u001b[1;33m.\u001b[0m\u001b[0m_thread_local_data\u001b[0m\u001b[1;33m.\u001b[0m\u001b[0mdevice_name\u001b[0m\u001b[1;33m,\u001b[0m \u001b[1;34m\"ShapeN\"\u001b[0m\u001b[1;33m,\u001b[0m\u001b[1;33m\u001b[0m\u001b[1;33m\u001b[0m\u001b[0m\n\u001b[1;32m-> 9034\u001b[1;33m         name, _ctx._post_execution_callbacks, input, \"out_type\", out_type)\n\u001b[0m\u001b[0;32m   9035\u001b[0m       \u001b[1;32mreturn\u001b[0m \u001b[0m_result\u001b[0m\u001b[1;33m\u001b[0m\u001b[1;33m\u001b[0m\u001b[0m\n\u001b[0;32m   9036\u001b[0m     \u001b[1;32mexcept\u001b[0m \u001b[0m_core\u001b[0m\u001b[1;33m.\u001b[0m\u001b[0m_FallbackException\u001b[0m\u001b[1;33m:\u001b[0m\u001b[1;33m\u001b[0m\u001b[1;33m\u001b[0m\u001b[0m\n",
      "\u001b[1;31mKeyboardInterrupt\u001b[0m: "
     ]
    }
   ],
   "source": [
    "history = model.fit_generator(train_generator,\n",
    "                              epochs=100,\n",
    "                              verbose=1,\n",
    "                              validation_data=validation_generator)\n",
    "from tensorflow.keras.models import save_model, load_model\n",
    "model.save('catdog2.h5')"
   ]
  },
  {
   "cell_type": "code",
   "execution_count": 14,
   "metadata": {},
   "outputs": [
    {
     "name": "stdout",
     "output_type": "stream",
     "text": [
      "INFO:tensorflow:Assets written to: E:\\Data Science\\Catanddog\\saved\\assets\n"
     ]
    }
   ],
   "source": [
    "from tensorflow.keras.models import save_model, load_model\n",
    "model.save('catdog.h5')"
   ]
  },
  {
   "cell_type": "code",
   "execution_count": 11,
   "metadata": {},
   "outputs": [],
   "source": []
  },
  {
   "cell_type": "code",
   "execution_count": null,
   "metadata": {},
   "outputs": [],
   "source": []
  }
 ],
 "metadata": {
  "kernelspec": {
   "display_name": "Python 3",
   "language": "python",
   "name": "python3"
  },
  "language_info": {
   "codemirror_mode": {
    "name": "ipython",
    "version": 3
   },
   "file_extension": ".py",
   "mimetype": "text/x-python",
   "name": "python",
   "nbconvert_exporter": "python",
   "pygments_lexer": "ipython3",
   "version": "3.6.8"
  }
 },
 "nbformat": 4,
 "nbformat_minor": 4
}
